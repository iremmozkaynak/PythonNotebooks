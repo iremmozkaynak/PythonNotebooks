{
 "cells": [
  {
   "cell_type": "code",
   "execution_count": 1,
   "id": "81154a2a-206a-4975-905b-248a329ad4c8",
   "metadata": {},
   "outputs": [],
   "source": [
    "import numpy as np"
   ]
  },
  {
   "cell_type": "code",
   "execution_count": 2,
   "id": "997f2610-caca-40c0-86df-ea3af4881aef",
   "metadata": {},
   "outputs": [],
   "source": [
    "import pandas as pd"
   ]
  },
  {
   "cell_type": "code",
   "execution_count": 3,
   "id": "8c8aa303-bbd8-4e9c-9d32-dd2760b3ece2",
   "metadata": {},
   "outputs": [],
   "source": [
    "data = np.random.randn(4,3)"
   ]
  },
  {
   "cell_type": "code",
   "execution_count": 4,
   "id": "9ca7b4da-bb3e-4463-8f7f-9e58cdd78b43",
   "metadata": {},
   "outputs": [
    {
     "data": {
      "text/plain": [
       "array([[ 1.30469882, -0.29272197,  0.14476658],\n",
       "       [-0.12950013, -0.94882842, -1.06536803],\n",
       "       [-1.00284812, -1.30782866,  0.56635254],\n",
       "       [-0.82160775, -1.30891004,  0.06321297]])"
      ]
     },
     "execution_count": 4,
     "metadata": {},
     "output_type": "execute_result"
    }
   ],
   "source": [
    "data\n"
   ]
  },
  {
   "cell_type": "code",
   "execution_count": 5,
   "id": "4c1ec573-5838-400d-a17a-254dfda11f3a",
   "metadata": {},
   "outputs": [],
   "source": [
    "dataFrame = pd.DataFrame(data)"
   ]
  },
  {
   "cell_type": "code",
   "execution_count": 6,
   "id": "acb70c3f-7af7-4f99-bc42-3fde5bb0b4a1",
   "metadata": {},
   "outputs": [
    {
     "data": {
      "text/html": [
       "<div>\n",
       "<style scoped>\n",
       "    .dataframe tbody tr th:only-of-type {\n",
       "        vertical-align: middle;\n",
       "    }\n",
       "\n",
       "    .dataframe tbody tr th {\n",
       "        vertical-align: top;\n",
       "    }\n",
       "\n",
       "    .dataframe thead th {\n",
       "        text-align: right;\n",
       "    }\n",
       "</style>\n",
       "<table border=\"1\" class=\"dataframe\">\n",
       "  <thead>\n",
       "    <tr style=\"text-align: right;\">\n",
       "      <th></th>\n",
       "      <th>0</th>\n",
       "      <th>1</th>\n",
       "      <th>2</th>\n",
       "    </tr>\n",
       "  </thead>\n",
       "  <tbody>\n",
       "    <tr>\n",
       "      <th>0</th>\n",
       "      <td>1.304699</td>\n",
       "      <td>-0.292722</td>\n",
       "      <td>0.144767</td>\n",
       "    </tr>\n",
       "    <tr>\n",
       "      <th>1</th>\n",
       "      <td>-0.129500</td>\n",
       "      <td>-0.948828</td>\n",
       "      <td>-1.065368</td>\n",
       "    </tr>\n",
       "    <tr>\n",
       "      <th>2</th>\n",
       "      <td>-1.002848</td>\n",
       "      <td>-1.307829</td>\n",
       "      <td>0.566353</td>\n",
       "    </tr>\n",
       "    <tr>\n",
       "      <th>3</th>\n",
       "      <td>-0.821608</td>\n",
       "      <td>-1.308910</td>\n",
       "      <td>0.063213</td>\n",
       "    </tr>\n",
       "  </tbody>\n",
       "</table>\n",
       "</div>"
      ],
      "text/plain": [
       "          0         1         2\n",
       "0  1.304699 -0.292722  0.144767\n",
       "1 -0.129500 -0.948828 -1.065368\n",
       "2 -1.002848 -1.307829  0.566353\n",
       "3 -0.821608 -1.308910  0.063213"
      ]
     },
     "execution_count": 6,
     "metadata": {},
     "output_type": "execute_result"
    }
   ],
   "source": [
    "dataFrame"
   ]
  },
  {
   "cell_type": "code",
   "execution_count": 7,
   "id": "819dea20-862b-42c7-9066-c2823e007880",
   "metadata": {},
   "outputs": [],
   "source": [
    "newDF = pd.DataFrame(data, index = [\"Ali\", \"Ayşe\",\" Fatma\", \"Yusuf\"], columns = [\"Salary\", \"Age\", \"Seniority\"])"
   ]
  },
  {
   "cell_type": "code",
   "execution_count": 8,
   "id": "0fa81a56-cdc7-44ca-9eea-04f914d00426",
   "metadata": {},
   "outputs": [
    {
     "data": {
      "text/html": [
       "<div>\n",
       "<style scoped>\n",
       "    .dataframe tbody tr th:only-of-type {\n",
       "        vertical-align: middle;\n",
       "    }\n",
       "\n",
       "    .dataframe tbody tr th {\n",
       "        vertical-align: top;\n",
       "    }\n",
       "\n",
       "    .dataframe thead th {\n",
       "        text-align: right;\n",
       "    }\n",
       "</style>\n",
       "<table border=\"1\" class=\"dataframe\">\n",
       "  <thead>\n",
       "    <tr style=\"text-align: right;\">\n",
       "      <th></th>\n",
       "      <th>Salary</th>\n",
       "      <th>Age</th>\n",
       "      <th>Seniority</th>\n",
       "    </tr>\n",
       "  </thead>\n",
       "  <tbody>\n",
       "    <tr>\n",
       "      <th>Ali</th>\n",
       "      <td>1.304699</td>\n",
       "      <td>-0.292722</td>\n",
       "      <td>0.144767</td>\n",
       "    </tr>\n",
       "    <tr>\n",
       "      <th>Ayşe</th>\n",
       "      <td>-0.129500</td>\n",
       "      <td>-0.948828</td>\n",
       "      <td>-1.065368</td>\n",
       "    </tr>\n",
       "    <tr>\n",
       "      <th>Fatma</th>\n",
       "      <td>-1.002848</td>\n",
       "      <td>-1.307829</td>\n",
       "      <td>0.566353</td>\n",
       "    </tr>\n",
       "    <tr>\n",
       "      <th>Yusuf</th>\n",
       "      <td>-0.821608</td>\n",
       "      <td>-1.308910</td>\n",
       "      <td>0.063213</td>\n",
       "    </tr>\n",
       "  </tbody>\n",
       "</table>\n",
       "</div>"
      ],
      "text/plain": [
       "          Salary       Age  Seniority\n",
       "Ali     1.304699 -0.292722   0.144767\n",
       "Ayşe   -0.129500 -0.948828  -1.065368\n",
       " Fatma -1.002848 -1.307829   0.566353\n",
       "Yusuf  -0.821608 -1.308910   0.063213"
      ]
     },
     "execution_count": 8,
     "metadata": {},
     "output_type": "execute_result"
    }
   ],
   "source": [
    "newDF\n"
   ]
  },
  {
   "cell_type": "code",
   "execution_count": 9,
   "id": "ee12cb38-865e-4a1a-9fbc-9f30475b73da",
   "metadata": {},
   "outputs": [
    {
     "data": {
      "text/plain": [
       "pandas.core.frame.DataFrame"
      ]
     },
     "execution_count": 9,
     "metadata": {},
     "output_type": "execute_result"
    }
   ],
   "source": [
    "type(newDF\n",
    "    )"
   ]
  },
  {
   "cell_type": "code",
   "execution_count": 11,
   "id": "11f51287-f608-4662-bbdf-36e9029103f9",
   "metadata": {},
   "outputs": [
    {
     "data": {
      "text/html": [
       "<div>\n",
       "<style scoped>\n",
       "    .dataframe tbody tr th:only-of-type {\n",
       "        vertical-align: middle;\n",
       "    }\n",
       "\n",
       "    .dataframe tbody tr th {\n",
       "        vertical-align: top;\n",
       "    }\n",
       "\n",
       "    .dataframe thead th {\n",
       "        text-align: right;\n",
       "    }\n",
       "</style>\n",
       "<table border=\"1\" class=\"dataframe\">\n",
       "  <thead>\n",
       "    <tr style=\"text-align: right;\">\n",
       "      <th></th>\n",
       "      <th>Age</th>\n",
       "      <th>Salary</th>\n",
       "    </tr>\n",
       "  </thead>\n",
       "  <tbody>\n",
       "    <tr>\n",
       "      <th>Ali</th>\n",
       "      <td>-0.292722</td>\n",
       "      <td>1.304699</td>\n",
       "    </tr>\n",
       "    <tr>\n",
       "      <th>Ayşe</th>\n",
       "      <td>-0.948828</td>\n",
       "      <td>-0.129500</td>\n",
       "    </tr>\n",
       "    <tr>\n",
       "      <th>Fatma</th>\n",
       "      <td>-1.307829</td>\n",
       "      <td>-1.002848</td>\n",
       "    </tr>\n",
       "    <tr>\n",
       "      <th>Yusuf</th>\n",
       "      <td>-1.308910</td>\n",
       "      <td>-0.821608</td>\n",
       "    </tr>\n",
       "  </tbody>\n",
       "</table>\n",
       "</div>"
      ],
      "text/plain": [
       "             Age    Salary\n",
       "Ali    -0.292722  1.304699\n",
       "Ayşe   -0.948828 -0.129500\n",
       " Fatma -1.307829 -1.002848\n",
       "Yusuf  -1.308910 -0.821608"
      ]
     },
     "execution_count": 11,
     "metadata": {},
     "output_type": "execute_result"
    }
   ],
   "source": [
    "newDF[[\"Age\"\n",
    "    ,\"Salary\"]]"
   ]
  },
  {
   "cell_type": "code",
   "execution_count": 12,
   "id": "522f27c5-0785-4055-8309-c7bf097b8601",
   "metadata": {},
   "outputs": [
    {
     "data": {
      "text/plain": [
       "Salary       1.304699\n",
       "Age         -0.292722\n",
       "Seniority    0.144767\n",
       "Name: Ali, dtype: float64"
      ]
     },
     "execution_count": 12,
     "metadata": {},
     "output_type": "execute_result"
    }
   ],
   "source": [
    "newDF.iloc[0]"
   ]
  },
  {
   "cell_type": "code",
   "execution_count": 14,
   "id": "b3e13979-e8be-47b9-9f6d-a26d1caf8b33",
   "metadata": {},
   "outputs": [
    {
     "data": {
      "text/plain": [
       "Ali       1.304699\n",
       "Ayşe     -0.129500\n",
       " Fatma   -1.002848\n",
       "Yusuf    -0.821608\n",
       "Name: Salary, dtype: float64"
      ]
     },
     "execution_count": 14,
     "metadata": {},
     "output_type": "execute_result"
    }
   ],
   "source": [
    "newDF.iloc[:,0]"
   ]
  },
  {
   "cell_type": "code",
   "execution_count": 15,
   "id": "e53215a6-ebce-47d3-8f3d-cb4fbae74134",
   "metadata": {},
   "outputs": [],
   "source": [
    "newDF[\"Extra\"] = 0"
   ]
  },
  {
   "cell_type": "code",
   "execution_count": 16,
   "id": "4962b68d-3b43-4c1f-bb9f-0e90ed5d852c",
   "metadata": {},
   "outputs": [
    {
     "data": {
      "text/html": [
       "<div>\n",
       "<style scoped>\n",
       "    .dataframe tbody tr th:only-of-type {\n",
       "        vertical-align: middle;\n",
       "    }\n",
       "\n",
       "    .dataframe tbody tr th {\n",
       "        vertical-align: top;\n",
       "    }\n",
       "\n",
       "    .dataframe thead th {\n",
       "        text-align: right;\n",
       "    }\n",
       "</style>\n",
       "<table border=\"1\" class=\"dataframe\">\n",
       "  <thead>\n",
       "    <tr style=\"text-align: right;\">\n",
       "      <th></th>\n",
       "      <th>Salary</th>\n",
       "      <th>Age</th>\n",
       "      <th>Seniority</th>\n",
       "      <th>Extra</th>\n",
       "    </tr>\n",
       "  </thead>\n",
       "  <tbody>\n",
       "    <tr>\n",
       "      <th>Ali</th>\n",
       "      <td>1.304699</td>\n",
       "      <td>-0.292722</td>\n",
       "      <td>0.144767</td>\n",
       "      <td>0</td>\n",
       "    </tr>\n",
       "    <tr>\n",
       "      <th>Ayşe</th>\n",
       "      <td>-0.129500</td>\n",
       "      <td>-0.948828</td>\n",
       "      <td>-1.065368</td>\n",
       "      <td>0</td>\n",
       "    </tr>\n",
       "    <tr>\n",
       "      <th>Fatma</th>\n",
       "      <td>-1.002848</td>\n",
       "      <td>-1.307829</td>\n",
       "      <td>0.566353</td>\n",
       "      <td>0</td>\n",
       "    </tr>\n",
       "    <tr>\n",
       "      <th>Yusuf</th>\n",
       "      <td>-0.821608</td>\n",
       "      <td>-1.308910</td>\n",
       "      <td>0.063213</td>\n",
       "      <td>0</td>\n",
       "    </tr>\n",
       "  </tbody>\n",
       "</table>\n",
       "</div>"
      ],
      "text/plain": [
       "          Salary       Age  Seniority  Extra\n",
       "Ali     1.304699 -0.292722   0.144767      0\n",
       "Ayşe   -0.129500 -0.948828  -1.065368      0\n",
       " Fatma -1.002848 -1.307829   0.566353      0\n",
       "Yusuf  -0.821608 -1.308910   0.063213      0"
      ]
     },
     "execution_count": 16,
     "metadata": {},
     "output_type": "execute_result"
    }
   ],
   "source": [
    "newDF\n"
   ]
  },
  {
   "cell_type": "code",
   "execution_count": 19,
   "id": "e203b308-b659-4c14-87f8-c51074f702cb",
   "metadata": {},
   "outputs": [
    {
     "data": {
      "text/html": [
       "<div>\n",
       "<style scoped>\n",
       "    .dataframe tbody tr th:only-of-type {\n",
       "        vertical-align: middle;\n",
       "    }\n",
       "\n",
       "    .dataframe tbody tr th {\n",
       "        vertical-align: top;\n",
       "    }\n",
       "\n",
       "    .dataframe thead th {\n",
       "        text-align: right;\n",
       "    }\n",
       "</style>\n",
       "<table border=\"1\" class=\"dataframe\">\n",
       "  <thead>\n",
       "    <tr style=\"text-align: right;\">\n",
       "      <th></th>\n",
       "      <th>Salary</th>\n",
       "      <th>Age</th>\n",
       "      <th>Seniority</th>\n",
       "    </tr>\n",
       "  </thead>\n",
       "  <tbody>\n",
       "    <tr>\n",
       "      <th>Ali</th>\n",
       "      <td>1.304699</td>\n",
       "      <td>-0.292722</td>\n",
       "      <td>0.144767</td>\n",
       "    </tr>\n",
       "    <tr>\n",
       "      <th>Ayşe</th>\n",
       "      <td>-0.129500</td>\n",
       "      <td>-0.948828</td>\n",
       "      <td>-1.065368</td>\n",
       "    </tr>\n",
       "    <tr>\n",
       "      <th>Fatma</th>\n",
       "      <td>-1.002848</td>\n",
       "      <td>-1.307829</td>\n",
       "      <td>0.566353</td>\n",
       "    </tr>\n",
       "    <tr>\n",
       "      <th>Yusuf</th>\n",
       "      <td>-0.821608</td>\n",
       "      <td>-1.308910</td>\n",
       "      <td>0.063213</td>\n",
       "    </tr>\n",
       "  </tbody>\n",
       "</table>\n",
       "</div>"
      ],
      "text/plain": [
       "          Salary       Age  Seniority\n",
       "Ali     1.304699 -0.292722   0.144767\n",
       "Ayşe   -0.129500 -0.948828  -1.065368\n",
       " Fatma -1.002848 -1.307829   0.566353\n",
       "Yusuf  -0.821608 -1.308910   0.063213"
      ]
     },
     "execution_count": 19,
     "metadata": {},
     "output_type": "execute_result"
    }
   ],
   "source": [
    "newDF.drop(\"Extra\", axis=1)"
   ]
  },
  {
   "cell_type": "code",
   "execution_count": 21,
   "id": "28df5282-98f9-47c4-8eea-4586993779de",
   "metadata": {},
   "outputs": [
    {
     "data": {
      "text/html": [
       "<div>\n",
       "<style scoped>\n",
       "    .dataframe tbody tr th:only-of-type {\n",
       "        vertical-align: middle;\n",
       "    }\n",
       "\n",
       "    .dataframe tbody tr th {\n",
       "        vertical-align: top;\n",
       "    }\n",
       "\n",
       "    .dataframe thead th {\n",
       "        text-align: right;\n",
       "    }\n",
       "</style>\n",
       "<table border=\"1\" class=\"dataframe\">\n",
       "  <thead>\n",
       "    <tr style=\"text-align: right;\">\n",
       "      <th></th>\n",
       "      <th>Salary</th>\n",
       "      <th>Age</th>\n",
       "      <th>Seniority</th>\n",
       "      <th>Extra</th>\n",
       "    </tr>\n",
       "  </thead>\n",
       "  <tbody>\n",
       "    <tr>\n",
       "      <th>Ali</th>\n",
       "      <td>1.304699</td>\n",
       "      <td>-0.292722</td>\n",
       "      <td>0.144767</td>\n",
       "      <td>0</td>\n",
       "    </tr>\n",
       "    <tr>\n",
       "      <th>Ayşe</th>\n",
       "      <td>-0.129500</td>\n",
       "      <td>-0.948828</td>\n",
       "      <td>-1.065368</td>\n",
       "      <td>0</td>\n",
       "    </tr>\n",
       "    <tr>\n",
       "      <th>Fatma</th>\n",
       "      <td>-1.002848</td>\n",
       "      <td>-1.307829</td>\n",
       "      <td>0.566353</td>\n",
       "      <td>0</td>\n",
       "    </tr>\n",
       "    <tr>\n",
       "      <th>Yusuf</th>\n",
       "      <td>-0.821608</td>\n",
       "      <td>-1.308910</td>\n",
       "      <td>0.063213</td>\n",
       "      <td>0</td>\n",
       "    </tr>\n",
       "  </tbody>\n",
       "</table>\n",
       "</div>"
      ],
      "text/plain": [
       "          Salary       Age  Seniority  Extra\n",
       "Ali     1.304699 -0.292722   0.144767      0\n",
       "Ayşe   -0.129500 -0.948828  -1.065368      0\n",
       " Fatma -1.002848 -1.307829   0.566353      0\n",
       "Yusuf  -0.821608 -1.308910   0.063213      0"
      ]
     },
     "execution_count": 21,
     "metadata": {},
     "output_type": "execute_result"
    }
   ],
   "source": [
    "newDF\n"
   ]
  },
  {
   "cell_type": "code",
   "execution_count": 22,
   "id": "5f1e41da-f993-48d3-82b8-6749b8102668",
   "metadata": {},
   "outputs": [],
   "source": [
    "newDF.drop(\"Extra\", axis=1, inplace = True)"
   ]
  },
  {
   "cell_type": "code",
   "execution_count": 23,
   "id": "4a4947c1-dd05-4120-ad72-ba52163f9ca9",
   "metadata": {},
   "outputs": [
    {
     "data": {
      "text/html": [
       "<div>\n",
       "<style scoped>\n",
       "    .dataframe tbody tr th:only-of-type {\n",
       "        vertical-align: middle;\n",
       "    }\n",
       "\n",
       "    .dataframe tbody tr th {\n",
       "        vertical-align: top;\n",
       "    }\n",
       "\n",
       "    .dataframe thead th {\n",
       "        text-align: right;\n",
       "    }\n",
       "</style>\n",
       "<table border=\"1\" class=\"dataframe\">\n",
       "  <thead>\n",
       "    <tr style=\"text-align: right;\">\n",
       "      <th></th>\n",
       "      <th>Salary</th>\n",
       "      <th>Age</th>\n",
       "      <th>Seniority</th>\n",
       "    </tr>\n",
       "  </thead>\n",
       "  <tbody>\n",
       "    <tr>\n",
       "      <th>Ali</th>\n",
       "      <td>1.304699</td>\n",
       "      <td>-0.292722</td>\n",
       "      <td>0.144767</td>\n",
       "    </tr>\n",
       "    <tr>\n",
       "      <th>Ayşe</th>\n",
       "      <td>-0.129500</td>\n",
       "      <td>-0.948828</td>\n",
       "      <td>-1.065368</td>\n",
       "    </tr>\n",
       "    <tr>\n",
       "      <th>Fatma</th>\n",
       "      <td>-1.002848</td>\n",
       "      <td>-1.307829</td>\n",
       "      <td>0.566353</td>\n",
       "    </tr>\n",
       "    <tr>\n",
       "      <th>Yusuf</th>\n",
       "      <td>-0.821608</td>\n",
       "      <td>-1.308910</td>\n",
       "      <td>0.063213</td>\n",
       "    </tr>\n",
       "  </tbody>\n",
       "</table>\n",
       "</div>"
      ],
      "text/plain": [
       "          Salary       Age  Seniority\n",
       "Ali     1.304699 -0.292722   0.144767\n",
       "Ayşe   -0.129500 -0.948828  -1.065368\n",
       " Fatma -1.002848 -1.307829   0.566353\n",
       "Yusuf  -0.821608 -1.308910   0.063213"
      ]
     },
     "execution_count": 23,
     "metadata": {},
     "output_type": "execute_result"
    }
   ],
   "source": [
    "newDF"
   ]
  },
  {
   "cell_type": "code",
   "execution_count": 24,
   "id": "08ffb700-fb6a-4a27-934b-4c014b2bf7e2",
   "metadata": {},
   "outputs": [
    {
     "data": {
      "text/html": [
       "<div>\n",
       "<style scoped>\n",
       "    .dataframe tbody tr th:only-of-type {\n",
       "        vertical-align: middle;\n",
       "    }\n",
       "\n",
       "    .dataframe tbody tr th {\n",
       "        vertical-align: top;\n",
       "    }\n",
       "\n",
       "    .dataframe thead th {\n",
       "        text-align: right;\n",
       "    }\n",
       "</style>\n",
       "<table border=\"1\" class=\"dataframe\">\n",
       "  <thead>\n",
       "    <tr style=\"text-align: right;\">\n",
       "      <th></th>\n",
       "      <th>Salary</th>\n",
       "      <th>Age</th>\n",
       "      <th>Seniority</th>\n",
       "    </tr>\n",
       "  </thead>\n",
       "  <tbody>\n",
       "    <tr>\n",
       "      <th>Ali</th>\n",
       "      <td>1.304699</td>\n",
       "      <td>-0.292722</td>\n",
       "      <td>0.144767</td>\n",
       "    </tr>\n",
       "    <tr>\n",
       "      <th>Ayşe</th>\n",
       "      <td>-0.129500</td>\n",
       "      <td>-0.948828</td>\n",
       "      <td>-1.065368</td>\n",
       "    </tr>\n",
       "    <tr>\n",
       "      <th>Fatma</th>\n",
       "      <td>-1.002848</td>\n",
       "      <td>-1.307829</td>\n",
       "      <td>0.566353</td>\n",
       "    </tr>\n",
       "  </tbody>\n",
       "</table>\n",
       "</div>"
      ],
      "text/plain": [
       "          Salary       Age  Seniority\n",
       "Ali     1.304699 -0.292722   0.144767\n",
       "Ayşe   -0.129500 -0.948828  -1.065368\n",
       " Fatma -1.002848 -1.307829   0.566353"
      ]
     },
     "execution_count": 24,
     "metadata": {},
     "output_type": "execute_result"
    }
   ],
   "source": [
    "newDF.drop(\"Yusuf\")"
   ]
  },
  {
   "cell_type": "code",
   "execution_count": 25,
   "id": "16b9317e-f563-4d4e-b250-390b0e60925c",
   "metadata": {},
   "outputs": [
    {
     "data": {
      "text/html": [
       "<div>\n",
       "<style scoped>\n",
       "    .dataframe tbody tr th:only-of-type {\n",
       "        vertical-align: middle;\n",
       "    }\n",
       "\n",
       "    .dataframe tbody tr th {\n",
       "        vertical-align: top;\n",
       "    }\n",
       "\n",
       "    .dataframe thead th {\n",
       "        text-align: right;\n",
       "    }\n",
       "</style>\n",
       "<table border=\"1\" class=\"dataframe\">\n",
       "  <thead>\n",
       "    <tr style=\"text-align: right;\">\n",
       "      <th></th>\n",
       "      <th>Salary</th>\n",
       "      <th>Age</th>\n",
       "      <th>Seniority</th>\n",
       "    </tr>\n",
       "  </thead>\n",
       "  <tbody>\n",
       "    <tr>\n",
       "      <th>Ali</th>\n",
       "      <td>1.304699</td>\n",
       "      <td>-0.292722</td>\n",
       "      <td>0.144767</td>\n",
       "    </tr>\n",
       "    <tr>\n",
       "      <th>Ayşe</th>\n",
       "      <td>-0.129500</td>\n",
       "      <td>-0.948828</td>\n",
       "      <td>-1.065368</td>\n",
       "    </tr>\n",
       "    <tr>\n",
       "      <th>Fatma</th>\n",
       "      <td>-1.002848</td>\n",
       "      <td>-1.307829</td>\n",
       "      <td>0.566353</td>\n",
       "    </tr>\n",
       "    <tr>\n",
       "      <th>Yusuf</th>\n",
       "      <td>-0.821608</td>\n",
       "      <td>-1.308910</td>\n",
       "      <td>0.063213</td>\n",
       "    </tr>\n",
       "  </tbody>\n",
       "</table>\n",
       "</div>"
      ],
      "text/plain": [
       "          Salary       Age  Seniority\n",
       "Ali     1.304699 -0.292722   0.144767\n",
       "Ayşe   -0.129500 -0.948828  -1.065368\n",
       " Fatma -1.002848 -1.307829   0.566353\n",
       "Yusuf  -0.821608 -1.308910   0.063213"
      ]
     },
     "execution_count": 25,
     "metadata": {},
     "output_type": "execute_result"
    }
   ],
   "source": [
    "newDF"
   ]
  },
  {
   "cell_type": "code",
   "execution_count": 29,
   "id": "37c36a4c-a868-4596-9490-1d12807e4558",
   "metadata": {},
   "outputs": [
    {
     "data": {
      "text/plain": [
       "np.float64(1.3046988175014134)"
      ]
     },
     "execution_count": 29,
     "metadata": {},
     "output_type": "execute_result"
    }
   ],
   "source": [
    "newDF.loc[\"Ali\",\"Salary\"]"
   ]
  },
  {
   "cell_type": "code",
   "execution_count": 30,
   "id": "23741db9-4e2e-4734-9662-9f0751b64c21",
   "metadata": {},
   "outputs": [],
   "source": [
    "newDF.loc[\"Ali\",\"Salary\"] = 10"
   ]
  },
  {
   "cell_type": "code",
   "execution_count": 31,
   "id": "c85ca734-34cb-448b-9796-7739a1ea31c4",
   "metadata": {},
   "outputs": [
    {
     "data": {
      "text/html": [
       "<div>\n",
       "<style scoped>\n",
       "    .dataframe tbody tr th:only-of-type {\n",
       "        vertical-align: middle;\n",
       "    }\n",
       "\n",
       "    .dataframe tbody tr th {\n",
       "        vertical-align: top;\n",
       "    }\n",
       "\n",
       "    .dataframe thead th {\n",
       "        text-align: right;\n",
       "    }\n",
       "</style>\n",
       "<table border=\"1\" class=\"dataframe\">\n",
       "  <thead>\n",
       "    <tr style=\"text-align: right;\">\n",
       "      <th></th>\n",
       "      <th>Salary</th>\n",
       "      <th>Age</th>\n",
       "      <th>Seniority</th>\n",
       "    </tr>\n",
       "  </thead>\n",
       "  <tbody>\n",
       "    <tr>\n",
       "      <th>Ali</th>\n",
       "      <td>10.000000</td>\n",
       "      <td>-0.292722</td>\n",
       "      <td>0.144767</td>\n",
       "    </tr>\n",
       "    <tr>\n",
       "      <th>Ayşe</th>\n",
       "      <td>-0.129500</td>\n",
       "      <td>-0.948828</td>\n",
       "      <td>-1.065368</td>\n",
       "    </tr>\n",
       "    <tr>\n",
       "      <th>Fatma</th>\n",
       "      <td>-1.002848</td>\n",
       "      <td>-1.307829</td>\n",
       "      <td>0.566353</td>\n",
       "    </tr>\n",
       "    <tr>\n",
       "      <th>Yusuf</th>\n",
       "      <td>-0.821608</td>\n",
       "      <td>-1.308910</td>\n",
       "      <td>0.063213</td>\n",
       "    </tr>\n",
       "  </tbody>\n",
       "</table>\n",
       "</div>"
      ],
      "text/plain": [
       "           Salary       Age  Seniority\n",
       "Ali     10.000000 -0.292722   0.144767\n",
       "Ayşe    -0.129500 -0.948828  -1.065368\n",
       " Fatma  -1.002848 -1.307829   0.566353\n",
       "Yusuf   -0.821608 -1.308910   0.063213"
      ]
     },
     "execution_count": 31,
     "metadata": {},
     "output_type": "execute_result"
    }
   ],
   "source": [
    "newDF"
   ]
  },
  {
   "cell_type": "code",
   "execution_count": 32,
   "id": "ae7ea0b0-c624-489d-8008-bf0622d881e2",
   "metadata": {},
   "outputs": [
    {
     "data": {
      "text/html": [
       "<div>\n",
       "<style scoped>\n",
       "    .dataframe tbody tr th:only-of-type {\n",
       "        vertical-align: middle;\n",
       "    }\n",
       "\n",
       "    .dataframe tbody tr th {\n",
       "        vertical-align: top;\n",
       "    }\n",
       "\n",
       "    .dataframe thead th {\n",
       "        text-align: right;\n",
       "    }\n",
       "</style>\n",
       "<table border=\"1\" class=\"dataframe\">\n",
       "  <thead>\n",
       "    <tr style=\"text-align: right;\">\n",
       "      <th></th>\n",
       "      <th>Salary</th>\n",
       "      <th>Age</th>\n",
       "      <th>Seniority</th>\n",
       "    </tr>\n",
       "  </thead>\n",
       "  <tbody>\n",
       "    <tr>\n",
       "      <th>Ali</th>\n",
       "      <td>10.0</td>\n",
       "      <td>NaN</td>\n",
       "      <td>0.144767</td>\n",
       "    </tr>\n",
       "    <tr>\n",
       "      <th>Ayşe</th>\n",
       "      <td>NaN</td>\n",
       "      <td>NaN</td>\n",
       "      <td>NaN</td>\n",
       "    </tr>\n",
       "    <tr>\n",
       "      <th>Fatma</th>\n",
       "      <td>NaN</td>\n",
       "      <td>NaN</td>\n",
       "      <td>0.566353</td>\n",
       "    </tr>\n",
       "    <tr>\n",
       "      <th>Yusuf</th>\n",
       "      <td>NaN</td>\n",
       "      <td>NaN</td>\n",
       "      <td>0.063213</td>\n",
       "    </tr>\n",
       "  </tbody>\n",
       "</table>\n",
       "</div>"
      ],
      "text/plain": [
       "        Salary  Age  Seniority\n",
       "Ali       10.0  NaN   0.144767\n",
       "Ayşe       NaN  NaN        NaN\n",
       " Fatma     NaN  NaN   0.566353\n",
       "Yusuf      NaN  NaN   0.063213"
      ]
     },
     "execution_count": 32,
     "metadata": {},
     "output_type": "execute_result"
    }
   ],
   "source": [
    "newDF[newDF > 0]"
   ]
  },
  {
   "cell_type": "code",
   "execution_count": 34,
   "id": "37d353b2-a81c-45d7-83a7-4962efd508a3",
   "metadata": {},
   "outputs": [
    {
     "data": {
      "text/html": [
       "<div>\n",
       "<style scoped>\n",
       "    .dataframe tbody tr th:only-of-type {\n",
       "        vertical-align: middle;\n",
       "    }\n",
       "\n",
       "    .dataframe tbody tr th {\n",
       "        vertical-align: top;\n",
       "    }\n",
       "\n",
       "    .dataframe thead th {\n",
       "        text-align: right;\n",
       "    }\n",
       "</style>\n",
       "<table border=\"1\" class=\"dataframe\">\n",
       "  <thead>\n",
       "    <tr style=\"text-align: right;\">\n",
       "      <th></th>\n",
       "      <th>Salary</th>\n",
       "      <th>Age</th>\n",
       "      <th>Seniority</th>\n",
       "    </tr>\n",
       "  </thead>\n",
       "  <tbody>\n",
       "    <tr>\n",
       "      <th>Ali</th>\n",
       "      <td>10.0</td>\n",
       "      <td>-0.292722</td>\n",
       "      <td>0.144767</td>\n",
       "    </tr>\n",
       "  </tbody>\n",
       "</table>\n",
       "</div>"
      ],
      "text/plain": [
       "     Salary       Age  Seniority\n",
       "Ali    10.0 -0.292722   0.144767"
      ]
     },
     "execution_count": 34,
     "metadata": {},
     "output_type": "execute_result"
    }
   ],
   "source": [
    "newDF[newDF[\"Salary\"]>0]"
   ]
  },
  {
   "cell_type": "code",
   "execution_count": 35,
   "id": "e6fca88b-1044-46e7-84e2-abd4cd7dc323",
   "metadata": {},
   "outputs": [
    {
     "data": {
      "text/html": [
       "<div>\n",
       "<style scoped>\n",
       "    .dataframe tbody tr th:only-of-type {\n",
       "        vertical-align: middle;\n",
       "    }\n",
       "\n",
       "    .dataframe tbody tr th {\n",
       "        vertical-align: top;\n",
       "    }\n",
       "\n",
       "    .dataframe thead th {\n",
       "        text-align: right;\n",
       "    }\n",
       "</style>\n",
       "<table border=\"1\" class=\"dataframe\">\n",
       "  <thead>\n",
       "    <tr style=\"text-align: right;\">\n",
       "      <th></th>\n",
       "      <th>index</th>\n",
       "      <th>Salary</th>\n",
       "      <th>Age</th>\n",
       "      <th>Seniority</th>\n",
       "    </tr>\n",
       "  </thead>\n",
       "  <tbody>\n",
       "    <tr>\n",
       "      <th>0</th>\n",
       "      <td>Ali</td>\n",
       "      <td>10.000000</td>\n",
       "      <td>-0.292722</td>\n",
       "      <td>0.144767</td>\n",
       "    </tr>\n",
       "    <tr>\n",
       "      <th>1</th>\n",
       "      <td>Ayşe</td>\n",
       "      <td>-0.129500</td>\n",
       "      <td>-0.948828</td>\n",
       "      <td>-1.065368</td>\n",
       "    </tr>\n",
       "    <tr>\n",
       "      <th>2</th>\n",
       "      <td>Fatma</td>\n",
       "      <td>-1.002848</td>\n",
       "      <td>-1.307829</td>\n",
       "      <td>0.566353</td>\n",
       "    </tr>\n",
       "    <tr>\n",
       "      <th>3</th>\n",
       "      <td>Yusuf</td>\n",
       "      <td>-0.821608</td>\n",
       "      <td>-1.308910</td>\n",
       "      <td>0.063213</td>\n",
       "    </tr>\n",
       "  </tbody>\n",
       "</table>\n",
       "</div>"
      ],
      "text/plain": [
       "    index     Salary       Age  Seniority\n",
       "0     Ali  10.000000 -0.292722   0.144767\n",
       "1    Ayşe  -0.129500 -0.948828  -1.065368\n",
       "2   Fatma  -1.002848 -1.307829   0.566353\n",
       "3   Yusuf  -0.821608 -1.308910   0.063213"
      ]
     },
     "execution_count": 35,
     "metadata": {},
     "output_type": "execute_result"
    }
   ],
   "source": [
    "newDF.reset_index()"
   ]
  },
  {
   "cell_type": "code",
   "execution_count": 36,
   "id": "3dc53314-e817-4b71-8912-7f318b62da50",
   "metadata": {},
   "outputs": [
    {
     "data": {
      "text/html": [
       "<div>\n",
       "<style scoped>\n",
       "    .dataframe tbody tr th:only-of-type {\n",
       "        vertical-align: middle;\n",
       "    }\n",
       "\n",
       "    .dataframe tbody tr th {\n",
       "        vertical-align: top;\n",
       "    }\n",
       "\n",
       "    .dataframe thead th {\n",
       "        text-align: right;\n",
       "    }\n",
       "</style>\n",
       "<table border=\"1\" class=\"dataframe\">\n",
       "  <thead>\n",
       "    <tr style=\"text-align: right;\">\n",
       "      <th></th>\n",
       "      <th>Salary</th>\n",
       "      <th>Age</th>\n",
       "      <th>Seniority</th>\n",
       "    </tr>\n",
       "  </thead>\n",
       "  <tbody>\n",
       "    <tr>\n",
       "      <th>Ali</th>\n",
       "      <td>10.000000</td>\n",
       "      <td>-0.292722</td>\n",
       "      <td>0.144767</td>\n",
       "    </tr>\n",
       "    <tr>\n",
       "      <th>Ayşe</th>\n",
       "      <td>-0.129500</td>\n",
       "      <td>-0.948828</td>\n",
       "      <td>-1.065368</td>\n",
       "    </tr>\n",
       "    <tr>\n",
       "      <th>Fatma</th>\n",
       "      <td>-1.002848</td>\n",
       "      <td>-1.307829</td>\n",
       "      <td>0.566353</td>\n",
       "    </tr>\n",
       "    <tr>\n",
       "      <th>Yusuf</th>\n",
       "      <td>-0.821608</td>\n",
       "      <td>-1.308910</td>\n",
       "      <td>0.063213</td>\n",
       "    </tr>\n",
       "  </tbody>\n",
       "</table>\n",
       "</div>"
      ],
      "text/plain": [
       "           Salary       Age  Seniority\n",
       "Ali     10.000000 -0.292722   0.144767\n",
       "Ayşe    -0.129500 -0.948828  -1.065368\n",
       " Fatma  -1.002848 -1.307829   0.566353\n",
       "Yusuf   -0.821608 -1.308910   0.063213"
      ]
     },
     "execution_count": 36,
     "metadata": {},
     "output_type": "execute_result"
    }
   ],
   "source": [
    "newDF\n",
    "\n"
   ]
  },
  {
   "cell_type": "code",
   "execution_count": 37,
   "id": "5d62aff9-2b4c-4885-a99d-af41cfae7845",
   "metadata": {},
   "outputs": [],
   "source": [
    "resetFrame = newDF.reset_index()"
   ]
  },
  {
   "cell_type": "code",
   "execution_count": 38,
   "id": "f226dfde-14af-4f97-8969-adfe8754188d",
   "metadata": {},
   "outputs": [
    {
     "data": {
      "text/html": [
       "<div>\n",
       "<style scoped>\n",
       "    .dataframe tbody tr th:only-of-type {\n",
       "        vertical-align: middle;\n",
       "    }\n",
       "\n",
       "    .dataframe tbody tr th {\n",
       "        vertical-align: top;\n",
       "    }\n",
       "\n",
       "    .dataframe thead th {\n",
       "        text-align: right;\n",
       "    }\n",
       "</style>\n",
       "<table border=\"1\" class=\"dataframe\">\n",
       "  <thead>\n",
       "    <tr style=\"text-align: right;\">\n",
       "      <th></th>\n",
       "      <th>index</th>\n",
       "      <th>Salary</th>\n",
       "      <th>Age</th>\n",
       "      <th>Seniority</th>\n",
       "    </tr>\n",
       "  </thead>\n",
       "  <tbody>\n",
       "    <tr>\n",
       "      <th>0</th>\n",
       "      <td>Ali</td>\n",
       "      <td>10.000000</td>\n",
       "      <td>-0.292722</td>\n",
       "      <td>0.144767</td>\n",
       "    </tr>\n",
       "    <tr>\n",
       "      <th>1</th>\n",
       "      <td>Ayşe</td>\n",
       "      <td>-0.129500</td>\n",
       "      <td>-0.948828</td>\n",
       "      <td>-1.065368</td>\n",
       "    </tr>\n",
       "    <tr>\n",
       "      <th>2</th>\n",
       "      <td>Fatma</td>\n",
       "      <td>-1.002848</td>\n",
       "      <td>-1.307829</td>\n",
       "      <td>0.566353</td>\n",
       "    </tr>\n",
       "    <tr>\n",
       "      <th>3</th>\n",
       "      <td>Yusuf</td>\n",
       "      <td>-0.821608</td>\n",
       "      <td>-1.308910</td>\n",
       "      <td>0.063213</td>\n",
       "    </tr>\n",
       "  </tbody>\n",
       "</table>\n",
       "</div>"
      ],
      "text/plain": [
       "    index     Salary       Age  Seniority\n",
       "0     Ali  10.000000 -0.292722   0.144767\n",
       "1    Ayşe  -0.129500 -0.948828  -1.065368\n",
       "2   Fatma  -1.002848 -1.307829   0.566353\n",
       "3   Yusuf  -0.821608 -1.308910   0.063213"
      ]
     },
     "execution_count": 38,
     "metadata": {},
     "output_type": "execute_result"
    }
   ],
   "source": [
    "resetFrame"
   ]
  },
  {
   "cell_type": "code",
   "execution_count": 39,
   "id": "c2accc48-ddff-4ae6-b032-b1503acaf51e",
   "metadata": {},
   "outputs": [
    {
     "data": {
      "text/plain": [
       "index             Ali\n",
       "Salary           10.0\n",
       "Age         -0.292722\n",
       "Seniority    0.144767\n",
       "Name: 0, dtype: object"
      ]
     },
     "execution_count": 39,
     "metadata": {},
     "output_type": "execute_result"
    }
   ],
   "source": [
    "resetFrame.loc[0]"
   ]
  },
  {
   "cell_type": "code",
   "execution_count": 40,
   "id": "b837fa82-b2fa-4973-83b7-d498716d31f6",
   "metadata": {},
   "outputs": [
    {
     "data": {
      "text/plain": [
       "index             Ali\n",
       "Salary           10.0\n",
       "Age         -0.292722\n",
       "Seniority    0.144767\n",
       "Name: 0, dtype: object"
      ]
     },
     "execution_count": 40,
     "metadata": {},
     "output_type": "execute_result"
    }
   ],
   "source": [
    "resetFrame.iloc[0]"
   ]
  },
  {
   "cell_type": "code",
   "execution_count": 41,
   "id": "f07e17b3-97c6-4627-9409-d8914e5880d0",
   "metadata": {},
   "outputs": [],
   "source": [
    "new_index = [\"A\", \"B\", \"C\", \"D\"]"
   ]
  },
  {
   "cell_type": "code",
   "execution_count": 48,
   "id": "bdce4d78-466f-4fe6-8362-9b35e8b66035",
   "metadata": {},
   "outputs": [],
   "source": [
    "newDF[\"NewIndex\"] = new_index"
   ]
  },
  {
   "cell_type": "code",
   "execution_count": 49,
   "id": "e6a6cafe-3a91-4e34-9888-09afc03bc4a1",
   "metadata": {},
   "outputs": [
    {
     "data": {
      "text/html": [
       "<div>\n",
       "<style scoped>\n",
       "    .dataframe tbody tr th:only-of-type {\n",
       "        vertical-align: middle;\n",
       "    }\n",
       "\n",
       "    .dataframe tbody tr th {\n",
       "        vertical-align: top;\n",
       "    }\n",
       "\n",
       "    .dataframe thead th {\n",
       "        text-align: right;\n",
       "    }\n",
       "</style>\n",
       "<table border=\"1\" class=\"dataframe\">\n",
       "  <thead>\n",
       "    <tr style=\"text-align: right;\">\n",
       "      <th></th>\n",
       "      <th>Salary</th>\n",
       "      <th>Age</th>\n",
       "      <th>Seniority</th>\n",
       "      <th>New Index</th>\n",
       "      <th>NewIndex</th>\n",
       "    </tr>\n",
       "  </thead>\n",
       "  <tbody>\n",
       "    <tr>\n",
       "      <th>Ali</th>\n",
       "      <td>10.000000</td>\n",
       "      <td>-0.292722</td>\n",
       "      <td>0.144767</td>\n",
       "      <td>A</td>\n",
       "      <td>A</td>\n",
       "    </tr>\n",
       "    <tr>\n",
       "      <th>Ayşe</th>\n",
       "      <td>-0.129500</td>\n",
       "      <td>-0.948828</td>\n",
       "      <td>-1.065368</td>\n",
       "      <td>B</td>\n",
       "      <td>B</td>\n",
       "    </tr>\n",
       "    <tr>\n",
       "      <th>Fatma</th>\n",
       "      <td>-1.002848</td>\n",
       "      <td>-1.307829</td>\n",
       "      <td>0.566353</td>\n",
       "      <td>C</td>\n",
       "      <td>C</td>\n",
       "    </tr>\n",
       "    <tr>\n",
       "      <th>Yusuf</th>\n",
       "      <td>-0.821608</td>\n",
       "      <td>-1.308910</td>\n",
       "      <td>0.063213</td>\n",
       "      <td>D</td>\n",
       "      <td>D</td>\n",
       "    </tr>\n",
       "  </tbody>\n",
       "</table>\n",
       "</div>"
      ],
      "text/plain": [
       "           Salary       Age  Seniority New Index NewIndex\n",
       "Ali     10.000000 -0.292722   0.144767         A        A\n",
       "Ayşe    -0.129500 -0.948828  -1.065368         B        B\n",
       " Fatma  -1.002848 -1.307829   0.566353         C        C\n",
       "Yusuf   -0.821608 -1.308910   0.063213         D        D"
      ]
     },
     "execution_count": 49,
     "metadata": {},
     "output_type": "execute_result"
    }
   ],
   "source": [
    "newDF"
   ]
  },
  {
   "cell_type": "code",
   "execution_count": 52,
   "id": "814f6191-8312-437d-80db-64a514bf941f",
   "metadata": {},
   "outputs": [],
   "source": [
    "newDF.set_index(\"NewIndex\",inplace=True)"
   ]
  },
  {
   "cell_type": "code",
   "execution_count": 53,
   "id": "4c90a530-5f6a-459c-ab27-a08ff032b669",
   "metadata": {},
   "outputs": [
    {
     "data": {
      "text/html": [
       "<div>\n",
       "<style scoped>\n",
       "    .dataframe tbody tr th:only-of-type {\n",
       "        vertical-align: middle;\n",
       "    }\n",
       "\n",
       "    .dataframe tbody tr th {\n",
       "        vertical-align: top;\n",
       "    }\n",
       "\n",
       "    .dataframe thead th {\n",
       "        text-align: right;\n",
       "    }\n",
       "</style>\n",
       "<table border=\"1\" class=\"dataframe\">\n",
       "  <thead>\n",
       "    <tr style=\"text-align: right;\">\n",
       "      <th></th>\n",
       "      <th>Salary</th>\n",
       "      <th>Age</th>\n",
       "      <th>Seniority</th>\n",
       "      <th>New Index</th>\n",
       "    </tr>\n",
       "    <tr>\n",
       "      <th>NewIndex</th>\n",
       "      <th></th>\n",
       "      <th></th>\n",
       "      <th></th>\n",
       "      <th></th>\n",
       "    </tr>\n",
       "  </thead>\n",
       "  <tbody>\n",
       "    <tr>\n",
       "      <th>A</th>\n",
       "      <td>10.000000</td>\n",
       "      <td>-0.292722</td>\n",
       "      <td>0.144767</td>\n",
       "      <td>A</td>\n",
       "    </tr>\n",
       "    <tr>\n",
       "      <th>B</th>\n",
       "      <td>-0.129500</td>\n",
       "      <td>-0.948828</td>\n",
       "      <td>-1.065368</td>\n",
       "      <td>B</td>\n",
       "    </tr>\n",
       "    <tr>\n",
       "      <th>C</th>\n",
       "      <td>-1.002848</td>\n",
       "      <td>-1.307829</td>\n",
       "      <td>0.566353</td>\n",
       "      <td>C</td>\n",
       "    </tr>\n",
       "    <tr>\n",
       "      <th>D</th>\n",
       "      <td>-0.821608</td>\n",
       "      <td>-1.308910</td>\n",
       "      <td>0.063213</td>\n",
       "      <td>D</td>\n",
       "    </tr>\n",
       "  </tbody>\n",
       "</table>\n",
       "</div>"
      ],
      "text/plain": [
       "             Salary       Age  Seniority New Index\n",
       "NewIndex                                          \n",
       "A         10.000000 -0.292722   0.144767         A\n",
       "B         -0.129500 -0.948828  -1.065368         B\n",
       "C         -1.002848 -1.307829   0.566353         C\n",
       "D         -0.821608 -1.308910   0.063213         D"
      ]
     },
     "execution_count": 53,
     "metadata": {},
     "output_type": "execute_result"
    }
   ],
   "source": [
    "newDF"
   ]
  },
  {
   "cell_type": "code",
   "execution_count": 54,
   "id": "76c93b83-fe38-4c53-aed1-6073c462cab7",
   "metadata": {},
   "outputs": [
    {
     "data": {
      "text/plain": [
       "Salary           10.0\n",
       "Age         -0.292722\n",
       "Seniority    0.144767\n",
       "New Index           A\n",
       "Name: A, dtype: object"
      ]
     },
     "execution_count": 54,
     "metadata": {},
     "output_type": "execute_result"
    }
   ],
   "source": [
    "newDF.loc[\"A\"]"
   ]
  },
  {
   "cell_type": "code",
   "execution_count": null,
   "id": "c05eb4bf-2695-46bd-a3e5-1120ee137316",
   "metadata": {},
   "outputs": [],
   "source": []
  }
 ],
 "metadata": {
  "kernelspec": {
   "display_name": "Python (base)",
   "language": "python",
   "name": "base"
  },
  "language_info": {
   "codemirror_mode": {
    "name": "ipython",
    "version": 3
   },
   "file_extension": ".py",
   "mimetype": "text/x-python",
   "name": "python",
   "nbconvert_exporter": "python",
   "pygments_lexer": "ipython3",
   "version": "3.13.5"
  }
 },
 "nbformat": 4,
 "nbformat_minor": 5
}
