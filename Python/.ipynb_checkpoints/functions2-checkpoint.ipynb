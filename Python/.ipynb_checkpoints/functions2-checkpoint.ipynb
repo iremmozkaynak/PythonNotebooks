{
 "cells": [
  {
   "cell_type": "markdown",
   "id": "5a8b5ba6-dfa8-4f0d-b43c-2364c2d1e065",
   "metadata": {},
   "source": [
    "# Fonsiyon devam"
   ]
  },
  {
   "cell_type": "code",
   "execution_count": 18,
   "id": "9607e772-e099-4a02-aee1-ab01690e30f9",
   "metadata": {},
   "outputs": [],
   "source": [
    "def controlString(string):\n",
    "    return \"Irem\" in string"
   ]
  },
  {
   "cell_type": "code",
   "execution_count": 11,
   "id": "74fbe439-6482-4f66-86b6-f7761c6981b1",
   "metadata": {},
   "outputs": [
    {
     "data": {
      "text/plain": [
       "True"
      ]
     },
     "execution_count": 11,
     "metadata": {},
     "output_type": "execute_result"
    }
   ],
   "source": [
    "controlString(\"Irem Ozkaynak\")"
   ]
  },
  {
   "cell_type": "code",
   "execution_count": 12,
   "id": "ab673f9d-a0b7-41ef-b4dd-2f2f11500728",
   "metadata": {},
   "outputs": [],
   "source": [
    "myStringList = [\"Irem\", \"Irem Ozkaynak\", \"Ozkaynak\", \"Irme\"]"
   ]
  },
  {
   "cell_type": "code",
   "execution_count": 13,
   "id": "90ea7f3d-a283-4fd8-92a9-7a0e8367e543",
   "metadata": {},
   "outputs": [
    {
     "data": {
      "text/plain": [
       "[True, True, False, False]"
      ]
     },
     "execution_count": 13,
     "metadata": {},
     "output_type": "execute_result"
    }
   ],
   "source": [
    "list(map(controlString,myStringList))"
   ]
  },
  {
   "cell_type": "code",
   "execution_count": 14,
   "id": "22cf3e45-b9c4-43a8-ab5d-b5ddb1051e28",
   "metadata": {},
   "outputs": [
    {
     "data": {
      "text/plain": [
       "['Irem', 'Irem Ozkaynak']"
      ]
     },
     "execution_count": 14,
     "metadata": {},
     "output_type": "execute_result"
    }
   ],
   "source": [
    "list(filter(controlString,myStringList))"
   ]
  },
  {
   "cell_type": "code",
   "execution_count": 15,
   "id": "2017fd58-9d87-44e4-9e8c-65032e57ca3b",
   "metadata": {},
   "outputs": [],
   "source": [
    "multiplyLambda =lambda num : num *3"
   ]
  },
  {
   "cell_type": "code",
   "execution_count": 16,
   "id": "9f9ca65a-6d6c-43cc-8730-9e27059bab78",
   "metadata": {},
   "outputs": [
    {
     "data": {
      "text/plain": [
       "60"
      ]
     },
     "execution_count": 16,
     "metadata": {},
     "output_type": "execute_result"
    }
   ],
   "source": [
    "multiplyLambda(20)"
   ]
  },
  {
   "cell_type": "code",
   "execution_count": 17,
   "id": "5bd3f6f2-86dc-4abc-85d3-5229012dc730",
   "metadata": {},
   "outputs": [],
   "source": [
    "numList = [10,20,30,40,50]"
   ]
  },
  {
   "cell_type": "code",
   "execution_count": 19,
   "id": "2e92e27e-3abd-45b1-bba6-db66bae3fdb6",
   "metadata": {},
   "outputs": [
    {
     "data": {
      "text/plain": [
       "[2.5, 5.0, 7.5, 10.0, 12.5]"
      ]
     },
     "execution_count": 19,
     "metadata": {},
     "output_type": "execute_result"
    }
   ],
   "source": [
    "list(map(lambda num:num/4,numList))"
   ]
  },
  {
   "cell_type": "markdown",
   "id": "018d025f-2cc5-46fa-a59e-48493b12ef50",
   "metadata": {},
   "source": [
    " # LEGB = L-> Local E -> Enclosing G -> Global B -> Built-In"
   ]
  },
  {
   "cell_type": "code",
   "execution_count": 21,
   "id": "4f163750-0980-42bb-9084-486bbb41165b",
   "metadata": {},
   "outputs": [],
   "source": [
    "#Global\n",
    "myString = \"Irem\"\n",
    "\n",
    "def myFunction():\n",
    "    #Enclosing\n",
    "    myString = \"Irem 2\"\n",
    "    print(myString)\n",
    "\n",
    "    def myFunction2():\n",
    "        #Local\n",
    "        myString = \"Irem 3\"\n",
    "        print(myString)\n",
    "\n",
    "    myFunction2()"
   ]
  },
  {
   "cell_type": "code",
   "execution_count": null,
   "id": "ff9e7f9e-4bbc-4089-858c-348393aab23f",
   "metadata": {},
   "outputs": [],
   "source": []
  }
 ],
 "metadata": {
  "kernelspec": {
   "display_name": "Python 3 (ipykernel)",
   "language": "python",
   "name": "python3"
  },
  "language_info": {
   "codemirror_mode": {
    "name": "ipython",
    "version": 3
   },
   "file_extension": ".py",
   "mimetype": "text/x-python",
   "name": "python",
   "nbconvert_exporter": "python",
   "pygments_lexer": "ipython3",
   "version": "3.13.5"
  }
 },
 "nbformat": 4,
 "nbformat_minor": 5
}
