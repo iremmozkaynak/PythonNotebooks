{
 "cells": [
  {
   "cell_type": "markdown",
   "id": "efaff579-462a-4cd8-ba01-7096e9d7b1c7",
   "metadata": {},
   "source": [
    "# FİLES"
   ]
  },
  {
   "cell_type": "code",
   "execution_count": 27,
   "id": "62e1443c-eb25-4252-868e-746e4450183a",
   "metadata": {},
   "outputs": [
    {
     "name": "stdout",
     "output_type": "stream",
     "text": [
      "Writing myfile.txt\n"
     ]
    }
   ],
   "source": [
    "%%writefile myfile.txt\n",
    "test 1\n",
    "test 2\n",
    "test 3"
   ]
  },
  {
   "cell_type": "code",
   "execution_count": 28,
   "id": "4dba8fe7-ca1e-42c2-b079-3abb65bac187",
   "metadata": {},
   "outputs": [],
   "source": [
    "myfile = open (\"myfile.txt\")"
   ]
  },
  {
   "cell_type": "code",
   "execution_count": 29,
   "id": "30d2b255-e0d1-44d0-ab17-7e4b486389d9",
   "metadata": {},
   "outputs": [
    {
     "data": {
      "text/plain": [
       "'test 1\\ntest 2\\ntest 3\\n'"
      ]
     },
     "execution_count": 29,
     "metadata": {},
     "output_type": "execute_result"
    }
   ],
   "source": [
    "myfile.read()"
   ]
  },
  {
   "cell_type": "code",
   "execution_count": 31,
   "id": "852b181c-0ee9-4b7d-bbe1-b48bdae9deed",
   "metadata": {},
   "outputs": [
    {
     "data": {
      "text/plain": [
       "0"
      ]
     },
     "execution_count": 31,
     "metadata": {},
     "output_type": "execute_result"
    }
   ],
   "source": [
    "myfile.seek(0)"
   ]
  },
  {
   "cell_type": "code",
   "execution_count": 32,
   "id": "a7e14c75-2266-4df2-99c6-45b858695fd5",
   "metadata": {},
   "outputs": [
    {
     "data": {
      "text/plain": [
       "'test 1\\ntest 2\\ntest 3\\n'"
      ]
     },
     "execution_count": 32,
     "metadata": {},
     "output_type": "execute_result"
    }
   ],
   "source": [
    "myfile.read()"
   ]
  },
  {
   "cell_type": "code",
   "execution_count": 33,
   "id": "c8c2e00d-cd5b-4274-9876-d10a2d2ce94f",
   "metadata": {},
   "outputs": [],
   "source": [
    "with open (\"myfile.txt\") as myfile:\n",
    "    myContent = myfile.read()"
   ]
  },
  {
   "cell_type": "code",
   "execution_count": 34,
   "id": "cb1b804c-7c94-4fd2-8b91-40fe76af6129",
   "metadata": {},
   "outputs": [
    {
     "data": {
      "text/plain": [
       "'test 1\\ntest 2\\ntest 3\\n'"
      ]
     },
     "execution_count": 34,
     "metadata": {},
     "output_type": "execute_result"
    }
   ],
   "source": [
    "myContent\n"
   ]
  },
  {
   "cell_type": "code",
   "execution_count": null,
   "id": "4e089b5d-19ba-47c1-8023-00f1177ad78f",
   "metadata": {},
   "outputs": [],
   "source": [
    "with open (\"myfile.txt\",mode=\"w\") as myNewfile:\n",
    "    myNewfile.write(\"test 4\")"
   ]
  }
 ],
 "metadata": {
  "kernelspec": {
   "display_name": "Python 3 (ipykernel)",
   "language": "python",
   "name": "python3"
  },
  "language_info": {
   "codemirror_mode": {
    "name": "ipython",
    "version": 3
   },
   "file_extension": ".py",
   "mimetype": "text/x-python",
   "name": "python",
   "nbconvert_exporter": "python",
   "pygments_lexer": "ipython3",
   "version": "3.13.5"
  }
 },
 "nbformat": 4,
 "nbformat_minor": 5
}
