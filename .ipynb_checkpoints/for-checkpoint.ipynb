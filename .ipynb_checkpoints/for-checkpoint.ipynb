{
 "cells": [
  {
   "cell_type": "code",
   "execution_count": 4,
   "id": "4f0205ab",
   "metadata": {
    "vscode": {
     "languageId": "plaintext"
    }
   },
   "outputs": [],
   "source": [
    "my_list = [20,30,40,50]"
   ]
  },
  {
   "cell_type": "code",
   "execution_count": 31,
   "id": "9e3ee556",
   "metadata": {
    "vscode": {
     "languageId": "plaintext"
    }
   },
   "outputs": [
    {
     "name": "stdout",
     "output_type": "stream",
     "text": [
      "(0, 30)\n",
      "(1, 50)\n",
      "(2, 40)\n",
      "(3, 20)\n"
     ]
    }
   ],
   "source": [
    "for element in enumerate(my_list):\n",
    "    print (element)\n"
   ]
  },
  {
   "cell_type": "code",
   "execution_count": 10,
   "id": "d7837483-8fd2-4a2f-828f-8413b4d862f0",
   "metadata": {},
   "outputs": [
    {
     "name": "stdout",
     "output_type": "stream",
     "text": [
      "index 0\n",
      "value 20\n",
      "index 1\n",
      "value 30\n",
      "index 2\n",
      "value 40\n",
      "index 3\n",
      "value 50\n"
     ]
    }
   ],
   "source": [
    "for (index,value) in enumerate(my_list):\n",
    "    print(\"index \"+ str(index)),\n",
    "    print(\"value \"+ str(value))\n",
    "    "
   ]
  },
  {
   "cell_type": "code",
   "execution_count": 13,
   "id": "5b0c943c-a3b1-45d2-b776-ec632ba4f805",
   "metadata": {},
   "outputs": [],
   "source": [
    "from random import randint\n",
    "from random import shuffle\n"
   ]
  },
  {
   "cell_type": "code",
   "execution_count": 12,
   "id": "f94b89e0-9cb5-43e5-ae75-897ecd5ff10b",
   "metadata": {},
   "outputs": [
    {
     "data": {
      "text/plain": [
       "42"
      ]
     },
     "execution_count": 12,
     "metadata": {},
     "output_type": "execute_result"
    }
   ],
   "source": [
    "randint(0,100)"
   ]
  },
  {
   "cell_type": "code",
   "execution_count": 14,
   "id": "d2d44ff2-3582-46a6-96f4-deac9a1c71cb",
   "metadata": {},
   "outputs": [],
   "source": [
    "shuffle(my_list)"
   ]
  },
  {
   "cell_type": "code",
   "execution_count": 15,
   "id": "b83ad109-509b-4b90-95e7-ebe0d039a76b",
   "metadata": {},
   "outputs": [
    {
     "data": {
      "text/plain": [
       "[30, 50, 40, 20]"
      ]
     },
     "execution_count": 15,
     "metadata": {},
     "output_type": "execute_result"
    }
   ],
   "source": [
    "my_list\n"
   ]
  },
  {
   "cell_type": "code",
   "execution_count": 16,
   "id": "e50b89ca-3fb7-448d-a81c-00ee20b6e405",
   "metadata": {},
   "outputs": [
    {
     "data": {
      "text/plain": [
       "list"
      ]
     },
     "execution_count": 16,
     "metadata": {},
     "output_type": "execute_result"
    }
   ],
   "source": [
    "food_list = [\"apple\",\"banana\",\"melon\"]\n",
    "calories_list = [100,150,200]\n",
    "day_list = [\"monday\",\"tuesday\",\"wednesday\"]\n",
    "zipped_list = list(zip(food_list,calories_list,day_list))\n",
    "type(zipped_list)\n",
    "\n"
   ]
  },
  {
   "cell_type": "code",
   "execution_count": 17,
   "id": "e976bbcd-4c46-4cc4-b0af-38059dbe8876",
   "metadata": {},
   "outputs": [
    {
     "data": {
      "text/plain": [
       "[('apple', 100, 'monday'),\n",
       " ('banana', 150, 'tuesday'),\n",
       " ('melon', 200, 'wednesday')]"
      ]
     },
     "execution_count": 17,
     "metadata": {},
     "output_type": "execute_result"
    }
   ],
   "source": [
    "zipped_list\n"
   ]
  },
  {
   "cell_type": "code",
   "execution_count": 18,
   "id": "6cadb196-099e-4776-85ce-567c7fa97c6b",
   "metadata": {},
   "outputs": [],
   "source": [
    "new_list = []\n",
    "my_string = \"metallica\"\n",
    "\n",
    "for element in my_string:\n",
    "    new_list.append(element)"
   ]
  },
  {
   "cell_type": "code",
   "execution_count": 19,
   "id": "25caa9a6-16a4-4a50-9971-b3fce8f97827",
   "metadata": {},
   "outputs": [
    {
     "data": {
      "text/plain": [
       "['m', 'e', 't', 'a', 'l', 'l', 'i', 'c', 'a']"
      ]
     },
     "execution_count": 19,
     "metadata": {},
     "output_type": "execute_result"
    }
   ],
   "source": [
    "new_list\n"
   ]
  },
  {
   "cell_type": "code",
   "execution_count": 20,
   "id": "91021fdb-2428-481d-9f60-377de243a5c0",
   "metadata": {},
   "outputs": [],
   "source": [
    "new_list = [element for element in my_string]"
   ]
  },
  {
   "cell_type": "code",
   "execution_count": 21,
   "id": "df567abd-355c-4a1f-ba60-80c0d26a9506",
   "metadata": {},
   "outputs": [
    {
     "data": {
      "text/plain": [
       "['m', 'e', 't', 'a', 'l', 'l', 'i', 'c', 'a']"
      ]
     },
     "execution_count": 21,
     "metadata": {},
     "output_type": "execute_result"
    }
   ],
   "source": [
    "new_list"
   ]
  },
  {
   "cell_type": "code",
   "execution_count": 22,
   "id": "9be27508-3589-4f0b-92fe-72404877cfff",
   "metadata": {},
   "outputs": [],
   "source": [
    "my_dictionary = {\"k1\":10,\"k2k\":\"a\",\"k32\":30,\"k4\":\"c\"}"
   ]
  },
  {
   "cell_type": "code",
   "execution_count": 32,
   "id": "c2c5b43e-eb65-44b3-bf46-10cdfc1fd2c0",
   "metadata": {},
   "outputs": [],
   "source": [
    "for (index,value) in enumerate(my_dictionary):\n",
    "    if value == \"c\":\n",
    "        print(\"There is a c\")"
   ]
  },
  {
   "cell_type": "code",
   "execution_count": 45,
   "id": "cc72d115-3bc0-4733-94aa-42f89b36fba5",
   "metadata": {},
   "outputs": [
    {
     "name": "stdout",
     "output_type": "stream",
     "text": [
      "There is a c\n"
     ]
    }
   ],
   "source": [
    "if \"c\" in my_dictionary.values():             #UNUTMA!!!!\n",
    "    print(\"There is a c\") "
   ]
  },
  {
   "cell_type": "code",
   "execution_count": 37,
   "id": "a74f8380-6382-4477-b23c-0686b6421f19",
   "metadata": {},
   "outputs": [],
   "source": [
    "age_name_list = [(\"Ahmet\",30),(\"Ayse\",24),(\"Mehmet\",40),(\"Fatma\",29)]\n",
    "new_list = []\n",
    "for i in range(len(age_name_list)):\n",
    "    new_list.append(age_name_list[i][0])"
   ]
  },
  {
   "cell_type": "code",
   "execution_count": 38,
   "id": "ade38271-0094-4d53-9506-440465b19883",
   "metadata": {},
   "outputs": [
    {
     "name": "stdout",
     "output_type": "stream",
     "text": [
      "['Ahmet', 'Ayse', 'Mehmet', 'Fatma']\n"
     ]
    }
   ],
   "source": [
    "print(new_list)"
   ]
  },
  {
   "cell_type": "code",
   "execution_count": 47,
   "id": "e2c8ab10-a33b-436a-9eca-094e6575596e",
   "metadata": {},
   "outputs": [
    {
     "name": "stdout",
     "output_type": "stream",
     "text": [
      "['Ahmet', 'Ayse', 'Mehmet', 'Fatma']\n"
     ]
    }
   ],
   "source": [
    "new_list2 = []\n",
    "for (isim,yas) in age_name_list:\n",
    "    new_list2.append(isim)\n",
    "print(new_list2)"
   ]
  },
  {
   "cell_type": "code",
   "execution_count": 39,
   "id": "a345f628-e0e2-4ecd-bacf-907e724309bf",
   "metadata": {},
   "outputs": [],
   "source": [
    "metal_list = [\"Metallica\",\"Iron Maiden\",\"Dream Theater\",\"Megadeth\",\"AC/DC\"]"
   ]
  },
  {
   "cell_type": "code",
   "execution_count": 54,
   "id": "4994ab66-dcea-47e2-b16c-7d8cb8abcd3f",
   "metadata": {},
   "outputs": [
    {
     "name": "stdout",
     "output_type": "stream",
     "text": [
      "Iron Maiden\n"
     ]
    }
   ],
   "source": [
    "print(metal_list[randint(0,len(metal_list)-1)])"
   ]
  },
  {
   "cell_type": "code",
   "execution_count": 55,
   "id": "954f0da1-e0d2-4cc9-abc9-54807581b5a8",
   "metadata": {},
   "outputs": [
    {
     "data": {
      "text/plain": [
       "[False, False, True, False, True, True, False, True]"
      ]
     },
     "execution_count": 55,
     "metadata": {},
     "output_type": "execute_result"
    }
   ],
   "source": [
    "number_list = [5,7,18,21,20,10,405,24]\n",
    "[num % 2 == 0 for num in number_list]"
   ]
  }
 ],
 "metadata": {
  "kernelspec": {
   "display_name": "Python 3 (ipykernel)",
   "language": "python",
   "name": "python3"
  },
  "language_info": {
   "codemirror_mode": {
    "name": "ipython",
    "version": 3
   },
   "file_extension": ".py",
   "mimetype": "text/x-python",
   "name": "python",
   "nbconvert_exporter": "python",
   "pygments_lexer": "ipython3",
   "version": "3.13.5"
  }
 },
 "nbformat": 4,
 "nbformat_minor": 5
}
