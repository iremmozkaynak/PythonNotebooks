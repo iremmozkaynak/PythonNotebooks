{
 "cells": [
  {
   "cell_type": "code",
   "execution_count": 1,
   "id": "99f65e94-6d35-408c-878f-d6eba5b0a7f6",
   "metadata": {},
   "outputs": [
    {
     "name": "stdout",
     "output_type": "stream",
     "text": [
      "Requirement already satisfied: lazypredict in c:\\users\\irm\\miniconda3\\lib\\site-packages (0.2.16)\n",
      "Requirement already satisfied: click in c:\\users\\irm\\miniconda3\\lib\\site-packages (from lazypredict) (8.2.1)\n",
      "Requirement already satisfied: scikit-learn in c:\\users\\irm\\miniconda3\\lib\\site-packages (from lazypredict) (1.7.2)\n",
      "Requirement already satisfied: pandas in c:\\users\\irm\\miniconda3\\lib\\site-packages (from lazypredict) (2.3.2)\n",
      "Requirement already satisfied: tqdm in c:\\users\\irm\\miniconda3\\lib\\site-packages (from lazypredict) (4.67.1)\n",
      "Requirement already satisfied: joblib in c:\\users\\irm\\miniconda3\\lib\\site-packages (from lazypredict) (1.5.2)\n",
      "Requirement already satisfied: lightgbm in c:\\users\\irm\\miniconda3\\lib\\site-packages (from lazypredict) (4.6.0)\n",
      "Requirement already satisfied: xgboost in c:\\users\\irm\\miniconda3\\lib\\site-packages (from lazypredict) (3.0.5)\n",
      "Requirement already satisfied: pytest-runner in c:\\users\\irm\\miniconda3\\lib\\site-packages (from lazypredict) (6.0.1)\n",
      "Requirement already satisfied: mlflow>=2.0.0 in c:\\users\\irm\\miniconda3\\lib\\site-packages (from lazypredict) (3.5.0)\n",
      "Requirement already satisfied: mlflow-skinny==3.5.0 in c:\\users\\irm\\miniconda3\\lib\\site-packages (from mlflow>=2.0.0->lazypredict) (3.5.0)\n",
      "Requirement already satisfied: mlflow-tracing==3.5.0 in c:\\users\\irm\\miniconda3\\lib\\site-packages (from mlflow>=2.0.0->lazypredict) (3.5.0)\n",
      "Requirement already satisfied: Flask-CORS<7 in c:\\users\\irm\\miniconda3\\lib\\site-packages (from mlflow>=2.0.0->lazypredict) (6.0.1)\n",
      "Requirement already satisfied: Flask<4 in c:\\users\\irm\\miniconda3\\lib\\site-packages (from mlflow>=2.0.0->lazypredict) (3.1.2)\n",
      "Requirement already satisfied: alembic!=1.10.0,<2 in c:\\users\\irm\\miniconda3\\lib\\site-packages (from mlflow>=2.0.0->lazypredict) (1.17.0)\n",
      "Requirement already satisfied: cryptography<47,>=43.0.0 in c:\\users\\irm\\miniconda3\\lib\\site-packages (from mlflow>=2.0.0->lazypredict) (45.0.5)\n",
      "Requirement already satisfied: docker<8,>=4.0.0 in c:\\users\\irm\\miniconda3\\lib\\site-packages (from mlflow>=2.0.0->lazypredict) (7.1.0)\n",
      "Requirement already satisfied: fastmcp<3,>=2.0.0 in c:\\users\\irm\\miniconda3\\lib\\site-packages (from mlflow>=2.0.0->lazypredict) (2.12.4)\n",
      "Requirement already satisfied: graphene<4 in c:\\users\\irm\\miniconda3\\lib\\site-packages (from mlflow>=2.0.0->lazypredict) (3.4.3)\n",
      "Requirement already satisfied: matplotlib<4 in c:\\users\\irm\\miniconda3\\lib\\site-packages (from mlflow>=2.0.0->lazypredict) (3.10.6)\n",
      "Requirement already satisfied: numpy<3 in c:\\users\\irm\\miniconda3\\lib\\site-packages (from mlflow>=2.0.0->lazypredict) (2.3.3)\n",
      "Requirement already satisfied: pyarrow<22,>=4.0.0 in c:\\users\\irm\\miniconda3\\lib\\site-packages (from mlflow>=2.0.0->lazypredict) (21.0.0)\n",
      "Requirement already satisfied: scipy<2 in c:\\users\\irm\\miniconda3\\lib\\site-packages (from mlflow>=2.0.0->lazypredict) (1.16.2)\n",
      "Requirement already satisfied: sqlalchemy<3,>=1.4.0 in c:\\users\\irm\\miniconda3\\lib\\site-packages (from mlflow>=2.0.0->lazypredict) (2.0.44)\n",
      "Requirement already satisfied: waitress<4 in c:\\users\\irm\\miniconda3\\lib\\site-packages (from mlflow>=2.0.0->lazypredict) (3.0.2)\n",
      "Requirement already satisfied: cachetools<7,>=5.0.0 in c:\\users\\irm\\miniconda3\\lib\\site-packages (from mlflow-skinny==3.5.0->mlflow>=2.0.0->lazypredict) (6.2.1)\n",
      "Requirement already satisfied: cloudpickle<4 in c:\\users\\irm\\miniconda3\\lib\\site-packages (from mlflow-skinny==3.5.0->mlflow>=2.0.0->lazypredict) (3.1.1)\n",
      "Requirement already satisfied: databricks-sdk<1,>=0.20.0 in c:\\users\\irm\\miniconda3\\lib\\site-packages (from mlflow-skinny==3.5.0->mlflow>=2.0.0->lazypredict) (0.68.0)\n",
      "Requirement already satisfied: fastapi<1 in c:\\users\\irm\\miniconda3\\lib\\site-packages (from mlflow-skinny==3.5.0->mlflow>=2.0.0->lazypredict) (0.119.0)\n",
      "Requirement already satisfied: gitpython<4,>=3.1.9 in c:\\users\\irm\\miniconda3\\lib\\site-packages (from mlflow-skinny==3.5.0->mlflow>=2.0.0->lazypredict) (3.1.45)\n",
      "Requirement already satisfied: importlib_metadata!=4.7.0,<9,>=3.7.0 in c:\\users\\irm\\miniconda3\\lib\\site-packages (from mlflow-skinny==3.5.0->mlflow>=2.0.0->lazypredict) (8.7.0)\n",
      "Requirement already satisfied: opentelemetry-api<3,>=1.9.0 in c:\\users\\irm\\miniconda3\\lib\\site-packages (from mlflow-skinny==3.5.0->mlflow>=2.0.0->lazypredict) (1.38.0)\n",
      "Requirement already satisfied: opentelemetry-proto<3,>=1.9.0 in c:\\users\\irm\\miniconda3\\lib\\site-packages (from mlflow-skinny==3.5.0->mlflow>=2.0.0->lazypredict) (1.38.0)\n",
      "Requirement already satisfied: opentelemetry-sdk<3,>=1.9.0 in c:\\users\\irm\\miniconda3\\lib\\site-packages (from mlflow-skinny==3.5.0->mlflow>=2.0.0->lazypredict) (1.38.0)\n",
      "Requirement already satisfied: packaging<26 in c:\\users\\irm\\miniconda3\\lib\\site-packages (from mlflow-skinny==3.5.0->mlflow>=2.0.0->lazypredict) (25.0)\n",
      "Requirement already satisfied: protobuf<7,>=3.12.0 in c:\\users\\irm\\miniconda3\\lib\\site-packages (from mlflow-skinny==3.5.0->mlflow>=2.0.0->lazypredict) (6.33.0)\n",
      "Requirement already satisfied: pydantic<3,>=1.10.8 in c:\\users\\irm\\miniconda3\\lib\\site-packages (from mlflow-skinny==3.5.0->mlflow>=2.0.0->lazypredict) (2.11.7)\n",
      "Requirement already satisfied: python-dotenv<2,>=0.19.0 in c:\\users\\irm\\miniconda3\\lib\\site-packages (from mlflow-skinny==3.5.0->mlflow>=2.0.0->lazypredict) (1.1.0)\n",
      "Requirement already satisfied: pyyaml<7,>=5.1 in c:\\users\\irm\\miniconda3\\lib\\site-packages (from mlflow-skinny==3.5.0->mlflow>=2.0.0->lazypredict) (6.0.2)\n",
      "Requirement already satisfied: requests<3,>=2.17.3 in c:\\users\\irm\\miniconda3\\lib\\site-packages (from mlflow-skinny==3.5.0->mlflow>=2.0.0->lazypredict) (2.32.4)\n",
      "Requirement already satisfied: sqlparse<1,>=0.4.0 in c:\\users\\irm\\miniconda3\\lib\\site-packages (from mlflow-skinny==3.5.0->mlflow>=2.0.0->lazypredict) (0.5.3)\n",
      "Requirement already satisfied: typing-extensions<5,>=4.0.0 in c:\\users\\irm\\miniconda3\\lib\\site-packages (from mlflow-skinny==3.5.0->mlflow>=2.0.0->lazypredict) (4.12.2)\n",
      "Requirement already satisfied: uvicorn<1 in c:\\users\\irm\\miniconda3\\lib\\site-packages (from mlflow-skinny==3.5.0->mlflow>=2.0.0->lazypredict) (0.37.0)\n",
      "Requirement already satisfied: Mako in c:\\users\\irm\\miniconda3\\lib\\site-packages (from alembic!=1.10.0,<2->mlflow>=2.0.0->lazypredict) (1.3.10)\n",
      "Requirement already satisfied: colorama in c:\\users\\irm\\miniconda3\\lib\\site-packages (from click->lazypredict) (0.4.6)\n",
      "Requirement already satisfied: cffi>=1.14 in c:\\users\\irm\\miniconda3\\lib\\site-packages (from cryptography<47,>=43.0.0->mlflow>=2.0.0->lazypredict) (1.17.1)\n",
      "Requirement already satisfied: google-auth~=2.0 in c:\\users\\irm\\miniconda3\\lib\\site-packages (from databricks-sdk<1,>=0.20.0->mlflow-skinny==3.5.0->mlflow>=2.0.0->lazypredict) (2.41.1)\n",
      "Requirement already satisfied: pywin32>=304 in c:\\users\\irm\\miniconda3\\lib\\site-packages (from docker<8,>=4.0.0->mlflow>=2.0.0->lazypredict) (311)\n",
      "Requirement already satisfied: urllib3>=1.26.0 in c:\\users\\irm\\miniconda3\\lib\\site-packages (from docker<8,>=4.0.0->mlflow>=2.0.0->lazypredict) (2.5.0)\n",
      "Requirement already satisfied: starlette<0.49.0,>=0.40.0 in c:\\users\\irm\\miniconda3\\lib\\site-packages (from fastapi<1->mlflow-skinny==3.5.0->mlflow>=2.0.0->lazypredict) (0.48.0)\n",
      "Requirement already satisfied: authlib>=1.5.2 in c:\\users\\irm\\miniconda3\\lib\\site-packages (from fastmcp<3,>=2.0.0->mlflow>=2.0.0->lazypredict) (1.6.5)\n",
      "Requirement already satisfied: cyclopts>=3.0.0 in c:\\users\\irm\\miniconda3\\lib\\site-packages (from fastmcp<3,>=2.0.0->mlflow>=2.0.0->lazypredict) (3.24.0)\n",
      "Requirement already satisfied: exceptiongroup>=1.2.2 in c:\\users\\irm\\miniconda3\\lib\\site-packages (from fastmcp<3,>=2.0.0->mlflow>=2.0.0->lazypredict) (1.3.0)\n",
      "Requirement already satisfied: httpx>=0.28.1 in c:\\users\\irm\\miniconda3\\lib\\site-packages (from fastmcp<3,>=2.0.0->mlflow>=2.0.0->lazypredict) (0.28.1)\n",
      "Requirement already satisfied: mcp<2.0.0,>=1.12.4 in c:\\users\\irm\\miniconda3\\lib\\site-packages (from fastmcp<3,>=2.0.0->mlflow>=2.0.0->lazypredict) (1.18.0)\n",
      "Requirement already satisfied: openapi-core>=0.19.5 in c:\\users\\irm\\miniconda3\\lib\\site-packages (from fastmcp<3,>=2.0.0->mlflow>=2.0.0->lazypredict) (0.19.5)\n",
      "Requirement already satisfied: openapi-pydantic>=0.5.1 in c:\\users\\irm\\miniconda3\\lib\\site-packages (from fastmcp<3,>=2.0.0->mlflow>=2.0.0->lazypredict) (0.5.1)\n",
      "Requirement already satisfied: pyperclip>=1.9.0 in c:\\users\\irm\\miniconda3\\lib\\site-packages (from fastmcp<3,>=2.0.0->mlflow>=2.0.0->lazypredict) (1.11.0)\n",
      "Requirement already satisfied: rich>=13.9.4 in c:\\users\\irm\\miniconda3\\lib\\site-packages (from fastmcp<3,>=2.0.0->mlflow>=2.0.0->lazypredict) (13.9.4)\n",
      "Requirement already satisfied: blinker>=1.9.0 in c:\\users\\irm\\miniconda3\\lib\\site-packages (from Flask<4->mlflow>=2.0.0->lazypredict) (1.9.0)\n",
      "Requirement already satisfied: itsdangerous>=2.2.0 in c:\\users\\irm\\miniconda3\\lib\\site-packages (from Flask<4->mlflow>=2.0.0->lazypredict) (2.2.0)\n",
      "Requirement already satisfied: jinja2>=3.1.2 in c:\\users\\irm\\miniconda3\\lib\\site-packages (from Flask<4->mlflow>=2.0.0->lazypredict) (3.1.6)\n",
      "Requirement already satisfied: markupsafe>=2.1.1 in c:\\users\\irm\\miniconda3\\lib\\site-packages (from Flask<4->mlflow>=2.0.0->lazypredict) (3.0.2)\n",
      "Requirement already satisfied: werkzeug>=3.1.0 in c:\\users\\irm\\miniconda3\\lib\\site-packages (from Flask<4->mlflow>=2.0.0->lazypredict) (3.1.1)\n",
      "Requirement already satisfied: gitdb<5,>=4.0.1 in c:\\users\\irm\\miniconda3\\lib\\site-packages (from gitpython<4,>=3.1.9->mlflow-skinny==3.5.0->mlflow>=2.0.0->lazypredict) (4.0.12)\n",
      "Requirement already satisfied: smmap<6,>=3.0.1 in c:\\users\\irm\\miniconda3\\lib\\site-packages (from gitdb<5,>=4.0.1->gitpython<4,>=3.1.9->mlflow-skinny==3.5.0->mlflow>=2.0.0->lazypredict) (5.0.2)\n",
      "Requirement already satisfied: pyasn1-modules>=0.2.1 in c:\\users\\irm\\miniconda3\\lib\\site-packages (from google-auth~=2.0->databricks-sdk<1,>=0.20.0->mlflow-skinny==3.5.0->mlflow>=2.0.0->lazypredict) (0.4.2)\n",
      "Requirement already satisfied: rsa<5,>=3.1.4 in c:\\users\\irm\\miniconda3\\lib\\site-packages (from google-auth~=2.0->databricks-sdk<1,>=0.20.0->mlflow-skinny==3.5.0->mlflow>=2.0.0->lazypredict) (4.9.1)\n",
      "Requirement already satisfied: graphql-core<3.3,>=3.1 in c:\\users\\irm\\miniconda3\\lib\\site-packages (from graphene<4->mlflow>=2.0.0->lazypredict) (3.2.6)\n",
      "Requirement already satisfied: graphql-relay<3.3,>=3.1 in c:\\users\\irm\\miniconda3\\lib\\site-packages (from graphene<4->mlflow>=2.0.0->lazypredict) (3.2.0)\n",
      "Requirement already satisfied: python-dateutil<3,>=2.7.0 in c:\\users\\irm\\miniconda3\\lib\\site-packages (from graphene<4->mlflow>=2.0.0->lazypredict) (2.9.0.post0)\n",
      "Requirement already satisfied: zipp>=3.20 in c:\\users\\irm\\miniconda3\\lib\\site-packages (from importlib_metadata!=4.7.0,<9,>=3.7.0->mlflow-skinny==3.5.0->mlflow>=2.0.0->lazypredict) (3.23.0)\n",
      "Requirement already satisfied: contourpy>=1.0.1 in c:\\users\\irm\\miniconda3\\lib\\site-packages (from matplotlib<4->mlflow>=2.0.0->lazypredict) (1.3.3)\n",
      "Requirement already satisfied: cycler>=0.10 in c:\\users\\irm\\miniconda3\\lib\\site-packages (from matplotlib<4->mlflow>=2.0.0->lazypredict) (0.12.1)\n",
      "Requirement already satisfied: fonttools>=4.22.0 in c:\\users\\irm\\miniconda3\\lib\\site-packages (from matplotlib<4->mlflow>=2.0.0->lazypredict) (4.60.0)\n",
      "Requirement already satisfied: kiwisolver>=1.3.1 in c:\\users\\irm\\miniconda3\\lib\\site-packages (from matplotlib<4->mlflow>=2.0.0->lazypredict) (1.4.9)\n",
      "Requirement already satisfied: pillow>=8 in c:\\users\\irm\\miniconda3\\lib\\site-packages (from matplotlib<4->mlflow>=2.0.0->lazypredict) (11.3.0)\n",
      "Requirement already satisfied: pyparsing>=2.3.1 in c:\\users\\irm\\miniconda3\\lib\\site-packages (from matplotlib<4->mlflow>=2.0.0->lazypredict) (3.2.4)\n",
      "Requirement already satisfied: anyio>=4.5 in c:\\users\\irm\\miniconda3\\lib\\site-packages (from mcp<2.0.0,>=1.12.4->fastmcp<3,>=2.0.0->mlflow>=2.0.0->lazypredict) (4.10.0)\n",
      "Requirement already satisfied: httpx-sse>=0.4 in c:\\users\\irm\\miniconda3\\lib\\site-packages (from mcp<2.0.0,>=1.12.4->fastmcp<3,>=2.0.0->mlflow>=2.0.0->lazypredict) (0.4.3)\n",
      "Requirement already satisfied: jsonschema>=4.20.0 in c:\\users\\irm\\miniconda3\\lib\\site-packages (from mcp<2.0.0,>=1.12.4->fastmcp<3,>=2.0.0->mlflow>=2.0.0->lazypredict) (4.25.1)\n",
      "Requirement already satisfied: pydantic-settings>=2.5.2 in c:\\users\\irm\\miniconda3\\lib\\site-packages (from mcp<2.0.0,>=1.12.4->fastmcp<3,>=2.0.0->mlflow>=2.0.0->lazypredict) (2.6.1)\n",
      "Requirement already satisfied: python-multipart>=0.0.9 in c:\\users\\irm\\miniconda3\\lib\\site-packages (from mcp<2.0.0,>=1.12.4->fastmcp<3,>=2.0.0->mlflow>=2.0.0->lazypredict) (0.0.20)\n",
      "Requirement already satisfied: sse-starlette>=1.6.1 in c:\\users\\irm\\miniconda3\\lib\\site-packages (from mcp<2.0.0,>=1.12.4->fastmcp<3,>=2.0.0->mlflow>=2.0.0->lazypredict) (3.0.2)\n",
      "Requirement already satisfied: opentelemetry-semantic-conventions==0.59b0 in c:\\users\\irm\\miniconda3\\lib\\site-packages (from opentelemetry-sdk<3,>=1.9.0->mlflow-skinny==3.5.0->mlflow>=2.0.0->lazypredict) (0.59b0)\n",
      "Requirement already satisfied: pytz>=2020.1 in c:\\users\\irm\\miniconda3\\lib\\site-packages (from pandas->lazypredict) (2025.2)\n",
      "Requirement already satisfied: tzdata>=2022.7 in c:\\users\\irm\\miniconda3\\lib\\site-packages (from pandas->lazypredict) (2025.2)\n",
      "Requirement already satisfied: annotated-types>=0.6.0 in c:\\users\\irm\\miniconda3\\lib\\site-packages (from pydantic<3,>=1.10.8->mlflow-skinny==3.5.0->mlflow>=2.0.0->lazypredict) (0.6.0)\n",
      "Requirement already satisfied: pydantic-core==2.33.2 in c:\\users\\irm\\miniconda3\\lib\\site-packages (from pydantic<3,>=1.10.8->mlflow-skinny==3.5.0->mlflow>=2.0.0->lazypredict) (2.33.2)\n",
      "Requirement already satisfied: typing-inspection>=0.4.0 in c:\\users\\irm\\miniconda3\\lib\\site-packages (from pydantic<3,>=1.10.8->mlflow-skinny==3.5.0->mlflow>=2.0.0->lazypredict) (0.4.0)\n",
      "Requirement already satisfied: six>=1.5 in c:\\users\\irm\\miniconda3\\lib\\site-packages (from python-dateutil<3,>=2.7.0->graphene<4->mlflow>=2.0.0->lazypredict) (1.17.0)\n",
      "Requirement already satisfied: charset_normalizer<4,>=2 in c:\\users\\irm\\miniconda3\\lib\\site-packages (from requests<3,>=2.17.3->mlflow-skinny==3.5.0->mlflow>=2.0.0->lazypredict) (3.3.2)\n",
      "Requirement already satisfied: idna<4,>=2.5 in c:\\users\\irm\\miniconda3\\lib\\site-packages (from requests<3,>=2.17.3->mlflow-skinny==3.5.0->mlflow>=2.0.0->lazypredict) (3.7)\n",
      "Requirement already satisfied: certifi>=2017.4.17 in c:\\users\\irm\\miniconda3\\lib\\site-packages (from requests<3,>=2.17.3->mlflow-skinny==3.5.0->mlflow>=2.0.0->lazypredict) (2025.8.3)\n",
      "Requirement already satisfied: pyasn1>=0.1.3 in c:\\users\\irm\\miniconda3\\lib\\site-packages (from rsa<5,>=3.1.4->google-auth~=2.0->databricks-sdk<1,>=0.20.0->mlflow-skinny==3.5.0->mlflow>=2.0.0->lazypredict) (0.6.1)\n",
      "Requirement already satisfied: threadpoolctl>=3.1.0 in c:\\users\\irm\\miniconda3\\lib\\site-packages (from scikit-learn->lazypredict) (3.6.0)\n",
      "Requirement already satisfied: greenlet>=1 in c:\\users\\irm\\miniconda3\\lib\\site-packages (from sqlalchemy<3,>=1.4.0->mlflow>=2.0.0->lazypredict) (3.2.4)\n",
      "Requirement already satisfied: sniffio>=1.1 in c:\\users\\irm\\miniconda3\\lib\\site-packages (from anyio>=4.5->mcp<2.0.0,>=1.12.4->fastmcp<3,>=2.0.0->mlflow>=2.0.0->lazypredict) (1.3.1)\n",
      "Requirement already satisfied: h11>=0.8 in c:\\users\\irm\\miniconda3\\lib\\site-packages (from uvicorn<1->mlflow-skinny==3.5.0->mlflow>=2.0.0->lazypredict) (0.16.0)\n",
      "Requirement already satisfied: pycparser in c:\\users\\irm\\miniconda3\\lib\\site-packages (from cffi>=1.14->cryptography<47,>=43.0.0->mlflow>=2.0.0->lazypredict) (2.21)\n",
      "Requirement already satisfied: attrs>=23.1.0 in c:\\users\\irm\\miniconda3\\lib\\site-packages (from cyclopts>=3.0.0->fastmcp<3,>=2.0.0->mlflow>=2.0.0->lazypredict) (25.3.0)\n",
      "Requirement already satisfied: docstring-parser>=0.15 in c:\\users\\irm\\miniconda3\\lib\\site-packages (from cyclopts>=3.0.0->fastmcp<3,>=2.0.0->mlflow>=2.0.0->lazypredict) (0.17.0)\n",
      "Requirement already satisfied: rich-rst<2.0.0,>=1.3.1 in c:\\users\\irm\\miniconda3\\lib\\site-packages (from cyclopts>=3.0.0->fastmcp<3,>=2.0.0->mlflow>=2.0.0->lazypredict) (1.3.2)\n",
      "Requirement already satisfied: docutils in c:\\users\\irm\\miniconda3\\lib\\site-packages (from rich-rst<2.0.0,>=1.3.1->cyclopts>=3.0.0->fastmcp<3,>=2.0.0->mlflow>=2.0.0->lazypredict) (0.22.2)\n",
      "Requirement already satisfied: httpcore==1.* in c:\\users\\irm\\miniconda3\\lib\\site-packages (from httpx>=0.28.1->fastmcp<3,>=2.0.0->mlflow>=2.0.0->lazypredict) (1.0.9)\n",
      "Requirement already satisfied: jsonschema-specifications>=2023.03.6 in c:\\users\\irm\\miniconda3\\lib\\site-packages (from jsonschema>=4.20.0->mcp<2.0.0,>=1.12.4->fastmcp<3,>=2.0.0->mlflow>=2.0.0->lazypredict) (2025.9.1)\n",
      "Requirement already satisfied: referencing>=0.28.4 in c:\\users\\irm\\miniconda3\\lib\\site-packages (from jsonschema>=4.20.0->mcp<2.0.0,>=1.12.4->fastmcp<3,>=2.0.0->mlflow>=2.0.0->lazypredict) (0.36.2)\n",
      "Requirement already satisfied: rpds-py>=0.7.1 in c:\\users\\irm\\miniconda3\\lib\\site-packages (from jsonschema>=4.20.0->mcp<2.0.0,>=1.12.4->fastmcp<3,>=2.0.0->mlflow>=2.0.0->lazypredict) (0.27.1)\n",
      "Requirement already satisfied: isodate in c:\\users\\irm\\miniconda3\\lib\\site-packages (from openapi-core>=0.19.5->fastmcp<3,>=2.0.0->mlflow>=2.0.0->lazypredict) (0.7.2)\n",
      "Requirement already satisfied: jsonschema-path<0.4.0,>=0.3.1 in c:\\users\\irm\\miniconda3\\lib\\site-packages (from openapi-core>=0.19.5->fastmcp<3,>=2.0.0->mlflow>=2.0.0->lazypredict) (0.3.4)\n",
      "Requirement already satisfied: more-itertools in c:\\users\\irm\\miniconda3\\lib\\site-packages (from openapi-core>=0.19.5->fastmcp<3,>=2.0.0->mlflow>=2.0.0->lazypredict) (10.3.0)\n",
      "Requirement already satisfied: openapi-schema-validator<0.7.0,>=0.6.0 in c:\\users\\irm\\miniconda3\\lib\\site-packages (from openapi-core>=0.19.5->fastmcp<3,>=2.0.0->mlflow>=2.0.0->lazypredict) (0.6.3)\n",
      "Requirement already satisfied: openapi-spec-validator<0.8.0,>=0.7.1 in c:\\users\\irm\\miniconda3\\lib\\site-packages (from openapi-core>=0.19.5->fastmcp<3,>=2.0.0->mlflow>=2.0.0->lazypredict) (0.7.2)\n",
      "Requirement already satisfied: parse in c:\\users\\irm\\miniconda3\\lib\\site-packages (from openapi-core>=0.19.5->fastmcp<3,>=2.0.0->mlflow>=2.0.0->lazypredict) (1.20.2)\n",
      "Requirement already satisfied: pathable<0.5.0,>=0.4.1 in c:\\users\\irm\\miniconda3\\lib\\site-packages (from jsonschema-path<0.4.0,>=0.3.1->openapi-core>=0.19.5->fastmcp<3,>=2.0.0->mlflow>=2.0.0->lazypredict) (0.4.4)\n",
      "Requirement already satisfied: rfc3339-validator in c:\\users\\irm\\miniconda3\\lib\\site-packages (from openapi-schema-validator<0.7.0,>=0.6.0->openapi-core>=0.19.5->fastmcp<3,>=2.0.0->mlflow>=2.0.0->lazypredict) (0.1.4)\n",
      "Requirement already satisfied: lazy-object-proxy<2.0.0,>=1.7.1 in c:\\users\\irm\\miniconda3\\lib\\site-packages (from openapi-spec-validator<0.8.0,>=0.7.1->openapi-core>=0.19.5->fastmcp<3,>=2.0.0->mlflow>=2.0.0->lazypredict) (1.12.0)\n",
      "Requirement already satisfied: email-validator>=2.0.0 in c:\\users\\irm\\miniconda3\\lib\\site-packages (from pydantic[email]>=2.11.7->fastmcp<3,>=2.0.0->mlflow>=2.0.0->lazypredict) (2.3.0)\n",
      "Requirement already satisfied: dnspython>=2.0.0 in c:\\users\\irm\\miniconda3\\lib\\site-packages (from email-validator>=2.0.0->pydantic[email]>=2.11.7->fastmcp<3,>=2.0.0->mlflow>=2.0.0->lazypredict) (2.8.0)\n",
      "Requirement already satisfied: markdown-it-py>=2.2.0 in c:\\users\\irm\\miniconda3\\lib\\site-packages (from rich>=13.9.4->fastmcp<3,>=2.0.0->mlflow>=2.0.0->lazypredict) (2.2.0)\n",
      "Requirement already satisfied: pygments<3.0.0,>=2.13.0 in c:\\users\\irm\\miniconda3\\lib\\site-packages (from rich>=13.9.4->fastmcp<3,>=2.0.0->mlflow>=2.0.0->lazypredict) (2.19.1)\n",
      "Requirement already satisfied: mdurl~=0.1 in c:\\users\\irm\\miniconda3\\lib\\site-packages (from markdown-it-py>=2.2.0->rich>=13.9.4->fastmcp<3,>=2.0.0->mlflow>=2.0.0->lazypredict) (0.1.0)\n",
      "Note: you may need to restart the kernel to use updated packages.\n"
     ]
    }
   ],
   "source": [
    "pip install lazypredict"
   ]
  },
  {
   "cell_type": "code",
   "execution_count": 2,
   "id": "e42a3335-4e92-43ed-b85e-4f39469b3cdf",
   "metadata": {},
   "outputs": [],
   "source": [
    "import lazypredict"
   ]
  },
  {
   "cell_type": "code",
   "execution_count": 3,
   "id": "e0cd34dd-dfd5-477f-ae2a-955d09f623ee",
   "metadata": {},
   "outputs": [],
   "source": [
    "from lazypredict.Supervised import LazyRegressor\n",
    "from sklearn import datasets\n",
    "from sklearn.utils import shuffle\n",
    "import numpy as np"
   ]
  },
  {
   "cell_type": "code",
   "execution_count": 4,
   "id": "eac86a5d-8f29-46d5-9660-4682d6942a21",
   "metadata": {},
   "outputs": [],
   "source": [
    "diabetes  = datasets.load_diabetes()"
   ]
  },
  {
   "cell_type": "code",
   "execution_count": 5,
   "id": "4591b754-3b11-4a1d-8c24-e93afd6a7b95",
   "metadata": {},
   "outputs": [],
   "source": [
    "X, y = shuffle(diabetes.data, diabetes.target, random_state=13)"
   ]
  },
  {
   "cell_type": "code",
   "execution_count": 6,
   "id": "0094031a-c184-4898-b455-4139020b8aac",
   "metadata": {},
   "outputs": [],
   "source": [
    "X = X.astype(np.float32)"
   ]
  },
  {
   "cell_type": "code",
   "execution_count": 7,
   "id": "f787fb3b-560d-407d-8ec5-5087633e7373",
   "metadata": {},
   "outputs": [],
   "source": [
    "offset = int(X.shape[0] * 0.9)\n",
    "\n",
    "X_train, y_train = X[:offset], y[:offset]\n",
    "X_test, y_test = X[offset:], y[offset:]"
   ]
  },
  {
   "cell_type": "code",
   "execution_count": 8,
   "id": "bcabfb04-a009-41af-a1a1-e0d3cab8a740",
   "metadata": {},
   "outputs": [
    {
     "data": {
      "text/plain": [
       "array([[-0.00551456, -0.04464164,  0.05630714, ...,  0.03799897,\n",
       "         0.05078203,  0.0569118 ],\n",
       "       [-0.02004471, -0.04464164, -0.08488624, ..., -0.05167075,\n",
       "        -0.08237869, -0.04664087],\n",
       "       [-0.06726771, -0.04464164, -0.05901875, ..., -0.03949338,\n",
       "         0.00200444,  0.02377494],\n",
       "       ...,\n",
       "       [-0.02367725, -0.04464164, -0.06979687, ..., -0.03949338,\n",
       "        -0.08913335, -0.05078298],\n",
       "       [ 0.07440129, -0.04464164,  0.114509  , ..., -0.00259226,\n",
       "        -0.00061174, -0.0052198 ],\n",
       "       [ 0.01991321,  0.05068012,  0.01427248, ...,  0.03430886,\n",
       "         0.04666178,  0.09004866]], shape=(397, 10), dtype=float32)"
      ]
     },
     "execution_count": 8,
     "metadata": {},
     "output_type": "execute_result"
    }
   ],
   "source": [
    "X_train"
   ]
  },
  {
   "cell_type": "code",
   "execution_count": 9,
   "id": "056c8cdc-140f-4a23-906d-b73b0ad0875d",
   "metadata": {
    "scrolled": true
   },
   "outputs": [
    {
     "data": {
      "text/plain": [
       "array([272.,  90.,  86., 232., 281.,  88., 235., 151., 152.,  98.,  85.,\n",
       "       270., 113., 263., 225., 178., 152., 275., 125., 167., 102.,  63.,\n",
       "        72.,  72., 150., 283.,  87., 200., 179.,  47., 259., 253., 129.,\n",
       "       258., 132., 161., 178., 154., 144., 179.,  53., 140., 182.,  97.,\n",
       "       292., 172.,  91.,  48., 116., 185., 170., 129., 104.,  85.,  97.,\n",
       "        84., 170.,  87., 186., 273., 230., 141., 134.,  96.,  94.,  71.,\n",
       "       214., 235., 252.,  72., 276., 197.,  91., 277., 145.,  52., 131.,\n",
       "        91.,  65., 102.,  93., 191.,  83., 201.,  96., 118., 168.,  71.,\n",
       "       258.,  84., 108., 185., 198., 262.,  78., 172.,  72.,  40., 243.,\n",
       "        93., 279., 306., 111., 217.,  67., 197., 144.,  42.,  43., 246.,\n",
       "       113.,  59., 128., 225., 156., 219.,  64., 163.,  99.,  52., 103.,\n",
       "        90.,  96., 275., 129.,  48., 264.,  77., 182., 212., 268.,  81.,\n",
       "        85., 242., 121., 195., 293.,  83.,  91., 190., 109., 146., 177.,\n",
       "       185., 233.,  65., 113., 310.,  74., 139.,  68., 109., 158., 150.,\n",
       "       158., 139.,  52., 210., 143., 160., 104.,  49., 163.,  90.,  55.,\n",
       "       101., 109., 200., 310., 288., 192., 263., 164., 220.,  96., 202.,\n",
       "       143.,  55., 216., 173., 131., 245., 110., 109.,  59.,  83.,  72.,\n",
       "        48., 341.,  92., 232.,  65., 101.,  88., 122., 144.,  77., 191.,\n",
       "       310.,  80., 128., 321., 244., 128., 281.,  61., 189.,  58.,  97.,\n",
       "       268.,  66., 295., 221.,  77., 144., 265., 249.,  63.,  60., 124.,\n",
       "        78.,  94.,  53., 115., 220., 134., 162.,  84., 173., 275.,  63.,\n",
       "       100., 183., 215., 135.,  72., 142.,  88., 121.,  55., 246.,  61.,\n",
       "        45.,  57., 217., 257., 116., 202.,  50., 120.,  92., 175.,  73.,\n",
       "       131.,  64.,  90., 242.,  71., 131., 241., 252., 258., 181., 248.,\n",
       "       138., 115.,  39., 265., 208., 222., 127., 127.,  68.,  69., 196.,\n",
       "        60.,  69., 171., 160., 281.,  71., 182., 148., 202.,  74., 141.,\n",
       "       259., 168., 230., 229., 257., 150., 311.,  70.,  77., 243., 138.,\n",
       "       151., 140., 136., 118., 200., 137., 111.,  49., 302., 110.,  44.,\n",
       "       142.,  90., 248., 180., 178., 111.,  51., 118., 198., 155., 220.,\n",
       "        55.,  59., 181., 259.,  65., 200., 150.,  42., 107.,  75.,  59.,\n",
       "       277., 142.,  95.,  52., 180., 196., 219., 303.,  81., 280., 233.,\n",
       "       104.,  94., 206.,  95.,  79., 164.,  39., 104.,  54., 283., 248.,\n",
       "       155.,  37., 122.,  88., 214., 262., 142., 170., 137., 174., 202.,\n",
       "       242., 236., 317.,  78.,  97.,  25.,  51., 274.,  60.,  66.,  31.,\n",
       "       101., 296., 141., 346., 103., 128., 252., 292., 190., 102., 206.,\n",
       "       174., 336., 123.,  70., 178.,  47., 198., 308.,  84.,  63., 237.,\n",
       "       297.])"
      ]
     },
     "execution_count": 9,
     "metadata": {},
     "output_type": "execute_result"
    }
   ],
   "source": [
    "y_train"
   ]
  },
  {
   "cell_type": "code",
   "execution_count": 10,
   "id": "6f408d84-aa42-41b4-b3e1-d1fa3d70d8ff",
   "metadata": {},
   "outputs": [],
   "source": [
    "reg = LazyRegressor(verbose=0, ignore_warnings=False, custom_metric=None)"
   ]
  },
  {
   "cell_type": "code",
   "execution_count": 11,
   "id": "362a410e-3cc1-434e-8194-cde531fb6d84",
   "metadata": {},
   "outputs": [
    {
     "ename": "ImportError",
     "evalue": "IProgress not found. Please update jupyter and ipywidgets. See https://ipywidgets.readthedocs.io/en/stable/user_install.html",
     "output_type": "error",
     "traceback": [
      "\u001b[31m---------------------------------------------------------------------------\u001b[39m",
      "\u001b[31mImportError\u001b[39m                               Traceback (most recent call last)",
      "\u001b[36mCell\u001b[39m\u001b[36m \u001b[39m\u001b[32mIn[11]\u001b[39m\u001b[32m, line 1\u001b[39m\n\u001b[32m----> \u001b[39m\u001b[32m1\u001b[39m models, predictions = \u001b[43mreg\u001b[49m\u001b[43m.\u001b[49m\u001b[43mfit\u001b[49m\u001b[43m(\u001b[49m\u001b[43mX_train\u001b[49m\u001b[43m,\u001b[49m\u001b[43m \u001b[49m\u001b[43mX_test\u001b[49m\u001b[43m,\u001b[49m\u001b[43m \u001b[49m\u001b[43my_train\u001b[49m\u001b[43m,\u001b[49m\u001b[43m \u001b[49m\u001b[43my_test\u001b[49m\u001b[43m)\u001b[49m\n",
      "\u001b[36mFile \u001b[39m\u001b[32m~\\miniconda3\\Lib\\site-packages\\lazypredict\\Supervised.py:669\u001b[39m, in \u001b[36mLazyRegressor.fit\u001b[39m\u001b[34m(self, X_train, X_test, y_train, y_test)\u001b[39m\n\u001b[32m    667\u001b[39m \u001b[38;5;66;03m# Use notebook tqdm if in Jupyter environment\u001b[39;00m\n\u001b[32m    668\u001b[39m progress_bar = notebook_tqdm \u001b[38;5;28;01mif\u001b[39;00m use_notebook_tqdm \u001b[38;5;28;01melse\u001b[39;00m tqdm\n\u001b[32m--> \u001b[39m\u001b[32m669\u001b[39m \u001b[38;5;28;01mfor\u001b[39;00m name, model \u001b[38;5;129;01min\u001b[39;00m \u001b[43mprogress_bar\u001b[49m\u001b[43m(\u001b[49m\u001b[38;5;28;43mself\u001b[39;49m\u001b[43m.\u001b[49m\u001b[43mregressors\u001b[49m\u001b[43m)\u001b[49m:\n\u001b[32m    670\u001b[39m     start = time.time()\n\u001b[32m    671\u001b[39m     \u001b[38;5;28;01mtry\u001b[39;00m:\n\u001b[32m    672\u001b[39m         \u001b[38;5;66;03m# Start MLflow run for this specific model if MLflow is enabled\u001b[39;00m\n",
      "\u001b[36mFile \u001b[39m\u001b[32m~\\miniconda3\\Lib\\site-packages\\tqdm\\notebook.py:234\u001b[39m, in \u001b[36mtqdm_notebook.__init__\u001b[39m\u001b[34m(self, *args, **kwargs)\u001b[39m\n\u001b[32m    232\u001b[39m unit_scale = \u001b[32m1\u001b[39m \u001b[38;5;28;01mif\u001b[39;00m \u001b[38;5;28mself\u001b[39m.unit_scale \u001b[38;5;129;01mis\u001b[39;00m \u001b[38;5;28;01mTrue\u001b[39;00m \u001b[38;5;28;01melse\u001b[39;00m \u001b[38;5;28mself\u001b[39m.unit_scale \u001b[38;5;129;01mor\u001b[39;00m \u001b[32m1\u001b[39m\n\u001b[32m    233\u001b[39m total = \u001b[38;5;28mself\u001b[39m.total * unit_scale \u001b[38;5;28;01mif\u001b[39;00m \u001b[38;5;28mself\u001b[39m.total \u001b[38;5;28;01melse\u001b[39;00m \u001b[38;5;28mself\u001b[39m.total\n\u001b[32m--> \u001b[39m\u001b[32m234\u001b[39m \u001b[38;5;28mself\u001b[39m.container = \u001b[38;5;28;43mself\u001b[39;49m\u001b[43m.\u001b[49m\u001b[43mstatus_printer\u001b[49m\u001b[43m(\u001b[49m\u001b[38;5;28;43mself\u001b[39;49m\u001b[43m.\u001b[49m\u001b[43mfp\u001b[49m\u001b[43m,\u001b[49m\u001b[43m \u001b[49m\u001b[43mtotal\u001b[49m\u001b[43m,\u001b[49m\u001b[43m \u001b[49m\u001b[38;5;28;43mself\u001b[39;49m\u001b[43m.\u001b[49m\u001b[43mdesc\u001b[49m\u001b[43m,\u001b[49m\u001b[43m \u001b[49m\u001b[38;5;28;43mself\u001b[39;49m\u001b[43m.\u001b[49m\u001b[43mncols\u001b[49m\u001b[43m)\u001b[49m\n\u001b[32m    235\u001b[39m \u001b[38;5;28mself\u001b[39m.container.pbar = proxy(\u001b[38;5;28mself\u001b[39m)\n\u001b[32m    236\u001b[39m \u001b[38;5;28mself\u001b[39m.displayed = \u001b[38;5;28;01mFalse\u001b[39;00m\n",
      "\u001b[36mFile \u001b[39m\u001b[32m~\\miniconda3\\Lib\\site-packages\\tqdm\\notebook.py:108\u001b[39m, in \u001b[36mtqdm_notebook.status_printer\u001b[39m\u001b[34m(_, total, desc, ncols)\u001b[39m\n\u001b[32m     99\u001b[39m \u001b[38;5;66;03m# Fallback to text bar if there's no total\u001b[39;00m\n\u001b[32m    100\u001b[39m \u001b[38;5;66;03m# DEPRECATED: replaced with an 'info' style bar\u001b[39;00m\n\u001b[32m    101\u001b[39m \u001b[38;5;66;03m# if not total:\u001b[39;00m\n\u001b[32m   (...)\u001b[39m\u001b[32m    105\u001b[39m \n\u001b[32m    106\u001b[39m \u001b[38;5;66;03m# Prepare IPython progress bar\u001b[39;00m\n\u001b[32m    107\u001b[39m \u001b[38;5;28;01mif\u001b[39;00m IProgress \u001b[38;5;129;01mis\u001b[39;00m \u001b[38;5;28;01mNone\u001b[39;00m:  \u001b[38;5;66;03m# #187 #451 #558 #872\u001b[39;00m\n\u001b[32m--> \u001b[39m\u001b[32m108\u001b[39m     \u001b[38;5;28;01mraise\u001b[39;00m \u001b[38;5;167;01mImportError\u001b[39;00m(WARN_NOIPYW)\n\u001b[32m    109\u001b[39m \u001b[38;5;28;01mif\u001b[39;00m total:\n\u001b[32m    110\u001b[39m     pbar = IProgress(\u001b[38;5;28mmin\u001b[39m=\u001b[32m0\u001b[39m, \u001b[38;5;28mmax\u001b[39m=total)\n",
      "\u001b[31mImportError\u001b[39m: IProgress not found. Please update jupyter and ipywidgets. See https://ipywidgets.readthedocs.io/en/stable/user_install.html"
     ]
    }
   ],
   "source": [
    "models, predictions = reg.fit(X_train, X_test, y_train, y_test)"
   ]
  },
  {
   "cell_type": "code",
   "execution_count": null,
   "id": "04571c04-79f5-4432-b527-d12a9e0e7f50",
   "metadata": {},
   "outputs": [],
   "source": []
  }
 ],
 "metadata": {
  "kernelspec": {
   "display_name": "Python (base)",
   "language": "python",
   "name": "base"
  },
  "language_info": {
   "codemirror_mode": {
    "name": "ipython",
    "version": 3
   },
   "file_extension": ".py",
   "mimetype": "text/x-python",
   "name": "python",
   "nbconvert_exporter": "python",
   "pygments_lexer": "ipython3",
   "version": "3.13.5"
  }
 },
 "nbformat": 4,
 "nbformat_minor": 5
}
